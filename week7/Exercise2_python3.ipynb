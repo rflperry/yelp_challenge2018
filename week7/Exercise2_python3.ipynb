{
 "cells": [
  {
   "cell_type": "code",
   "execution_count": 5,
   "metadata": {},
   "outputs": [],
   "source": [
    "import requests\n",
    "import nltk, re, pprint, io, json\n",
    "import matplotlib.pyplot as plt\n",
    "import pandas as pd"
   ]
  },
  {
   "cell_type": "code",
   "execution_count": null,
   "metadata": {},
   "outputs": [],
   "source": [
    "def build_query_url(page):\n",
    "    # Build query\n",
    "    queryUrl = \"http://en.wikipedia.org/w/api.php/?action=query\"\n",
    "    title = \"titles=%s\" % page \n",
    "    content = \"prop=extracts&exlimit=max&explaintext\"\n",
    "    dataformat = \"format=json\"\n",
    "    query = \"%s&%s&%s&%s\" % (queryUrl, title, content, dataformat)\n",
    "    return query\n",
    "\n",
    "def get_content(url):\n",
    "    # Send request and parse response\n",
    "    json_response = requests.get(url).json()\n",
    "    pages = json_response['query']['pages']\n",
    "    key = next(iter(pages.keys()))\n",
    "    content = pages[key]['extract']\n",
    "    return content\n",
    "    \n",
    "def fetch_content(page):\n",
    "    url = build_query_url(page)\n",
    "    content = get_content(url)\n",
    "    return content\n",
    "\n",
    "def save_to_file(content, page_name):\n",
    "    filename = 'congress115/%s.txt' % page_name\n",
    "    f = open(filename, \"a\")\n",
    "    f.write(content)\n",
    "    f.close()  "
   ]
  },
  {
   "cell_type": "code",
   "execution_count": 6,
   "metadata": {},
   "outputs": [],
   "source": [
    "# Create a dataframe which contains page names for the 115th congress\n",
    "url_h115 = 'https://raw.githubusercontent.com/suneman/socialgraphs2018/master/files/data_US_congress/H115.csv'\n",
    "df = pd.read_csv(url_h115)\n",
    "page_names = df.WikiPageName"
   ]
  },
  {
   "cell_type": "code",
   "execution_count": null,
   "metadata": {},
   "outputs": [],
   "source": [
    "%%time\n",
    "# Fetch each wikipage and save to a txt file\n",
    "for page_name in page_names:\n",
    "    content = fetch_content(page_name)\n",
    "    save_to_file(content, page_name)"
   ]
  },
  {
   "cell_type": "markdown",
   "metadata": {},
   "source": [
    "## Exercises\n",
    "### TF-IDF\n",
    "**Explain in your own words the point of TF-IDF.**\n",
    "* What does TF stand for?\n",
    "* What does IDF stand for?\n",
    "\n",
    "Answer:\n",
    "* TFIDF (term frequency–inverse document frequency), is a numerical statistic that is intended to reflect how important a word is to a document in a collection or corpus. It is often used as a weighting factor in searches of information retrieval, text mining, and user modeling. The tf–idf value increases proportionally to the number of times a word appears in the document and is offset by the number of documents in the corpus that contain the word, which helps to adjust for the fact that some words appear more frequently in general. Tf–idf is one of the most popular term-weighting schemes today.\n",
    "\n",
    "* Variations of the tf–idf weighting scheme are often used by search engines as a central tool in scoring and ranking a document's relevance given a user query. tf–idf can be successfully used for stop-words filtering in various subject fields, including text summarization and classification.\n",
    "\n",
    "### Tokenizing the Wikipedia Pages\n",
    "We want to find out which words are important for each party, so we're going to create two large documents, one for the Democratic and one for the Republican party. Tokenize the pages, and combine the tokens into one long list including all the pages of the members of the same party. Remember the bullets below for success.\n",
    "* Exclude the congress members names (since we're interested in the words, not the names).\n",
    "* Exclude punctuation.\n",
    "* Exclude stop words (if you don't know what stop words are, go back and read NLPP1e again).\n",
    "* Exclude numbers (since they're difficult to interpret in the word cloud).\n",
    "* Set everything to lower case.\n",
    "\n",
    "*Note that none of the above has to be perfect. It might not be easy to remove all representatives names. And there's some room for improvisation. You can try using stemming. In my own first run the results didn't look so nice, because some pages are very detailed and repeat certain words again and again and again, whereas other pages are very short. For that reason, I decided to use the unique set of words from each page rather than each word in proportion to how it's actually used on that page. Choices like that are up to you.\n",
    "Now, we're ready to calculate the TF for each word. Use the method of your choice to find the top 5 terms within each party.*"
   ]
  },
  {
   "cell_type": "code",
   "execution_count": 3,
   "metadata": {},
   "outputs": [],
   "source": [
    "from nltk.corpus import stopwords\n",
    "import string"
   ]
  },
  {
   "cell_type": "code",
   "execution_count": 48,
   "metadata": {},
   "outputs": [],
   "source": [
    "name_tokens = \" \".join(page_names)\n",
    "name_tokens = nltk.word_tokenize(name_tokens)\n",
    "name_tokens = \" \".join(name_tokens).replace(\"_\", \" \").replace(\"politician\", \"\").lower()\n",
    "name_tokens = re.findall(r'\\w+', name_tokens)"
   ]
  },
  {
   "cell_type": "code",
   "execution_count": 66,
   "metadata": {},
   "outputs": [],
   "source": [
    "def clean_document(doc, bad_words):    \n",
    "    doc = doc.lower()\n",
    "    tokens = re.findall(r'[a-zA-Z]', doc) \n",
    "    tokens = [t for t in tokens if t not in bad_words]\n",
    "    tokens = [t for t in tokens if t not in stopwords.words('english')]\n",
    "    return tokens  "
   ]
  },
  {
   "cell_type": "code",
   "execution_count": 67,
   "metadata": {},
   "outputs": [],
   "source": [
    "def build_document(party):\n",
    "    doc = \"\"\n",
    "    names = df[df.Party == party].WikiPageName\n",
    "    for name in names:\n",
    "        page = io.open('congress115/%s.txt' % name, 'r').read()\n",
    "        doc += page + \" \"\n",
    "    return doc"
   ]
  },
  {
   "cell_type": "code",
   "execution_count": 68,
   "metadata": {},
   "outputs": [],
   "source": [
    "repub_doc = build_document(\"Republican\")\n",
    "demo_doc = build_document(\"Democratic\")"
   ]
  },
  {
   "cell_type": "code",
   "execution_count": 69,
   "metadata": {},
   "outputs": [],
   "source": [
    "repub_tokens = clean_document(repub_doc, name_tokens)\n",
    "demo_tokens = clean_document(demo_doc, name_tokens)"
   ]
  },
  {
   "cell_type": "code",
   "execution_count": 70,
   "metadata": {},
   "outputs": [],
   "source": [
    "import pickle\n",
    "output = open('repub_tokens.obj', 'wb')\n",
    "pickle.dump(repub_tokens, output)\n",
    "output.close()\n",
    "\n",
    "output = open('demo_tokens.obj', 'wb')\n",
    "pickle.dump(demo_tokens, output)\n",
    "output.close()"
   ]
  },
  {
   "cell_type": "markdown",
   "metadata": {},
   "source": [
    "* Now, we're ready to calculate the TF for each word. Use the method of your choice to find the top 5 terms within each party.\n",
    "\n",
    "For TF I will be using the simplest variation, i.e. just the frequency of the word.\n",
    "\n",
    "$tf(t,d) = f_{t,d}$"
   ]
  },
  {
   "cell_type": "code",
   "execution_count": 71,
   "metadata": {},
   "outputs": [],
   "source": [
    "repub_fd = nltk.FreqDist(repub_tokens)\n",
    "demo_fd = nltk.FreqDist(demo_tokens)"
   ]
  },
  {
   "cell_type": "code",
   "execution_count": 73,
   "metadata": {},
   "outputs": [
    {
     "data": {
      "text/plain": [
       "[('house', 1960),\n",
       " ('district', 1590),\n",
       " ('election', 1518),\n",
       " ('congress', 1505),\n",
       " ('congressional', 1490),\n",
       " ('democratic', 1351),\n",
       " ('caucus', 1289),\n",
       " ('committee', 1251),\n",
       " ('u', 1177),\n",
       " ('states', 1166)]"
      ]
     },
     "execution_count": 73,
     "metadata": {},
     "output_type": "execute_result"
    }
   ],
   "source": [
    "demo_fd.most_common(10)"
   ]
  },
  {
   "cell_type": "code",
   "execution_count": 75,
   "metadata": {},
   "outputs": [],
   "source": [
    "# Extracting TF's\n",
    "TF_repub = list(\n",
    "    map(lambda tup: tup[1], repub_fd.most_common())\n",
    ")\n",
    "\n",
    "TF_demo = list(\n",
    "    map(lambda tup: tup[1], demo_fd.most_common())\n",
    ")"
   ]
  },
  {
   "cell_type": "markdown",
   "metadata": {},
   "source": [
    "* Next, we calculate IDF for every word.\n",
    "  * What base logarithm did you use? Is that important?\n",
    "    * Log 10, no it does not matter for this purpose, since we just wish for there to an inverse exponential relationship, where a word that appears in all documents have an IDF value of 0\n",
    "  \n",
    "$idf(t,D) = log \\left( \\frac{N}{df_t} \\right)$"
   ]
  },
  {
   "cell_type": "code",
   "execution_count": 76,
   "metadata": {},
   "outputs": [],
   "source": [
    "repub_tokens_ordered = list(\n",
    "    map(lambda tup: tup[0], repub_fd.most_common())\n",
    ")\n",
    "\n",
    "demo_tokens_ordered = list(\n",
    "    map(lambda tup: tup[0], demo_fd.most_common())\n",
    ")"
   ]
  },
  {
   "cell_type": "code",
   "execution_count": 77,
   "metadata": {},
   "outputs": [],
   "source": [
    "output = open('repub_tokens_ordered.obj', 'wb')\n",
    "pickle.dump(repub_tokens_ordered, output)\n",
    "output.close()\n",
    "\n",
    "output = open('demo_tokens_ordered.obj', 'wb')\n",
    "pickle.dump(demo_tokens_ordered, output)\n",
    "output.close()"
   ]
  },
  {
   "cell_type": "code",
   "execution_count": 78,
   "metadata": {},
   "outputs": [],
   "source": [
    "repub_tokens_set = set(repub_tokens)\n",
    "demo_tokens_set = set(demo_tokens)"
   ]
  },
  {
   "cell_type": "code",
   "execution_count": 79,
   "metadata": {},
   "outputs": [],
   "source": [
    "import numpy as np"
   ]
  },
  {
   "cell_type": "code",
   "execution_count": 80,
   "metadata": {},
   "outputs": [],
   "source": [
    "N_repub = len(repub_tokens_ordered)\n",
    "DF_repub = np.zeros(N_repub)\n",
    "\n",
    "for i, t in enumerate(repub_tokens_ordered):\n",
    "    DF_repub[i] += (t in repub_tokens_set) + (t in demo_tokens_set)"
   ]
  },
  {
   "cell_type": "code",
   "execution_count": 81,
   "metadata": {},
   "outputs": [],
   "source": [
    "N_demo = len(demo_tokens_ordered)\n",
    "DF_demo = np.zeros(N_demo)\n",
    "\n",
    "for i, t in enumerate(demo_tokens_ordered):\n",
    "    DF_demo[i] += (t in repub_tokens_set) + (t in demo_tokens_set)"
   ]
  },
  {
   "cell_type": "code",
   "execution_count": 95,
   "metadata": {},
   "outputs": [],
   "source": [
    "# Calculate IDFs\n",
    "N = 2\n",
    "IDF_repub = np.log(N / DF_repub)\n",
    "IDF_demo = np.log(N / DF_demo)"
   ]
  },
  {
   "cell_type": "code",
   "execution_count": 96,
   "metadata": {},
   "outputs": [
    {
     "data": {
      "image/png": "[encoded data removed]",
      "text/plain": [
       "<Figure size 432x288 with 1 Axes>"
      ]
     },
     "metadata": {},
     "output_type": "display_data"
    }
   ],
   "source": [
    "plt.plot(IDF_repub, \".\")\n",
    "plt.show()"
   ]
  },
  {
   "cell_type": "markdown",
   "metadata": {},
   "source": [
    "**Calculating $TF \\cdot IDF$**"
   ]
  },
  {
   "cell_type": "code",
   "execution_count": 101,
   "metadata": {},
   "outputs": [],
   "source": [
    "TFIDF_repub = np.zeros(N_repub)\n",
    "for i in range(N_repub):\n",
    "    TFIDF_repub[i] = TF_repub[i] * IDF_repub[i]"
   ]
  },
  {
   "cell_type": "code",
   "execution_count": 100,
   "metadata": {},
   "outputs": [],
   "source": [
    "TFIDF_demo = np.zeros(N_demo)\n",
    "for i in range(N_demo):\n",
    "    TFIDF_demo[i] = TF_demo[i] * IDF_demo[i]"
   ]
  },
  {
   "cell_type": "code",
   "execution_count": 102,
   "metadata": {},
   "outputs": [],
   "source": [
    "np.save(\"TFIDF_repub\", TFIDF_repub)\n",
    "np.save(\"TFIDF_demo\", TFIDF_demo)"
   ]
  },
  {
   "cell_type": "code",
   "execution_count": null,
   "metadata": {},
   "outputs": [],
   "source": []
  }
 ],
 "metadata": {
  "kernelspec": {
   "display_name": "Python 3",
   "language": "python",
   "name": "python3"
  },
  "language_info": {
   "codemirror_mode": {
    "name": "ipython",
    "version": 3
   },
   "file_extension": ".py",
   "mimetype": "text/x-python",
   "name": "python",
   "nbconvert_exporter": "python",
   "pygments_lexer": "ipython3",
   "version": "3.6.6"
  }
 },
 "nbformat": 4,
 "nbformat_minor": 2
}
