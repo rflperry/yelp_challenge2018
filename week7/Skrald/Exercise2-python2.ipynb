{
 "cells": [
  {
   "cell_type": "code",
   "execution_count": 1,
   "metadata": {},
   "outputs": [],
   "source": [
    "import urllib2, nltk, re, pprint, io, json\n",
    "import matplotlib.pyplot as plt\n",
    "import pandas as pd"
   ]
  },
  {
   "cell_type": "code",
   "execution_count": 11,
   "metadata": {},
   "outputs": [],
   "source": [
    "# Works for Python 3 only\n",
    "def fetch_content(title):\n",
    "    def build_query_url(page):\n",
    "        # Build query\n",
    "        queryUrl = \"http://en.wikipedia.org/w/api.php/?action=query\"\n",
    "        title = \"titles=%s\" % page \n",
    "        content = \"prop=extracts&exlimit=max&explaintext\"\n",
    "        rvprop= \"rvprop=timestamp|content\"\n",
    "        dataformat = \"format=json\"\n",
    "        query = \"%s&%s&%s&%s&%s\" % (queryUrl, title, content, rvprop, dataformat)\n",
    "        return query\n",
    "\n",
    "    def fetch_page(url):\n",
    "        response = urllib2.urlopen(url)\n",
    "        json_reponse = json.load(response)\n",
    "        pages = json_reponse['query']['pages']\n",
    "        pages_key = next(iter(pages)) # First key is the page key\n",
    "        extract = pages[pages_key]['extract'].encode('utf-8')\n",
    "        return extract\n",
    "    \n",
    "    url = build_query_url(title)\n",
    "    content = fetch_page(url)\n",
    "    return content\n",
    "\n",
    "def save_to_file(content, page_name):\n",
    "        filename = 'congress115/%s.txt' % page_name\n",
    "        f = open(filename, \"a\")\n",
    "        f.write(content)\n",
    "        f.close()  "
   ]
  },
  {
   "cell_type": "code",
   "execution_count": 12,
   "metadata": {},
   "outputs": [],
   "source": [
    "# Create dataframe, which contains page names for 115th congress\n",
    "url_base = 'https://raw.githubusercontent.com/suneman/socialgraphs2018/master/files/data_US_congress/'\n",
    "df = pd.read_csv(url_base + 'H115.csv')\n",
    "page_names = df.WikiPageName"
   ]
  },
  {
   "cell_type": "code",
   "execution_count": 16,
   "metadata": {},
   "outputs": [
    {
     "name": "stdout",
     "output_type": "stream",
     "text": [
      "1 loop, best of 3: 3min 39s per loop\n"
     ]
    }
   ],
   "source": [
    "%%timeit\n",
    "# Fetch each wikipage and save to a txt file\n",
    "for page_name in page_names:\n",
    "        content = fetch_content(page_name)\n",
    "        save_to_file(content, page_name)"
   ]
  },
  {
   "cell_type": "code",
   "execution_count": null,
   "metadata": {},
   "outputs": [],
   "source": []
  },
  {
   "cell_type": "code",
   "execution_count": null,
   "metadata": {},
   "outputs": [],
   "source": []
  },
  {
   "cell_type": "markdown",
   "metadata": {},
   "source": [
    "## Exercises\n",
    "### TF-IDF\n",
    "**Explain in your own words the point of TF-IDF.**\n",
    "* What does TF stand for?\n",
    "* What does IDF stand for?\n",
    "\n",
    "Answer:\n",
    "* TFIDF (term frequency–inverse document frequency), is a numerical statistic that is intended to reflect how important a word is to a document in a collection or corpus. It is often used as a weighting factor in searches of information retrieval, text mining, and user modeling. The tf–idf value increases proportionally to the number of times a word appears in the document and is offset by the number of documents in the corpus that contain the word, which helps to adjust for the fact that some words appear more frequently in general. Tf–idf is one of the most popular term-weighting schemes today.\n",
    "\n",
    "* Variations of the tf–idf weighting scheme are often used by search engines as a central tool in scoring and ranking a document's relevance given a user query. tf–idf can be successfully used for stop-words filtering in various subject fields, including text summarization and classification.\n",
    "\n",
    "### Tokenizing the Wikipedia Pages\n",
    "We want to find out which words are important for each party, so we're going to create two large documents, one for the Democratic and one for the Republican party. Tokenize the pages, and combine the tokens into one long list including all the pages of the members of the same party. Remember the bullets below for success.\n",
    "* Exclude the congress members names (since we're interested in the words, not the names).\n",
    "* Exclude punctuation.\n",
    "* Exclude stop words (if you don't know what stop words are, go back and read NLPP1e again).\n",
    "* Exclude numbers (since they're difficult to interpret in the word cloud).\n",
    "* Set everything to lower case.\n",
    "\n",
    "*Note that none of the above has to be perfect. It might not be easy to remove all representatives names. And there's some room for improvisation. You can try using stemming. In my own first run the results didn't look so nice, because some pages are very detailed and repeat certain words again and again and again, whereas other pages are very short. For that reason, I decided to use the unique set of words from each page rather than each word in proportion to how it's actually used on that page. Choices like that are up to you.\n",
    "Now, we're ready to calculate the TF for each word. Use the method of your choice to find the top 5 terms within each party.*"
   ]
  },
  {
   "cell_type": "code",
   "execution_count": null,
   "metadata": {},
   "outputs": [],
   "source": []
  },
  {
   "cell_type": "code",
   "execution_count": null,
   "metadata": {},
   "outputs": [],
   "source": [
    "article = io.open(\"congress115/Adam_Kinzinger.txt\", 'r').read().encode('utf-8')"
   ]
  },
  {
   "cell_type": "code",
   "execution_count": null,
   "metadata": {},
   "outputs": [],
   "source": [
    "tokens = nltk.word_tokenize(article)"
   ]
  },
  {
   "cell_type": "code",
   "execution_count": null,
   "metadata": {},
   "outputs": [],
   "source": []
  }
 ],
 "metadata": {
  "kernelspec": {
   "display_name": "Python 2",
   "language": "python",
   "name": "python2"
  },
  "language_info": {
   "codemirror_mode": {
    "name": "ipython",
    "version": 2
   },
   "file_extension": ".py",
   "mimetype": "text/x-python",
   "name": "python",
   "nbconvert_exporter": "python",
   "pygments_lexer": "ipython2",
   "version": "2.7.15"
  }
 },
 "nbformat": 4,
 "nbformat_minor": 2
}
