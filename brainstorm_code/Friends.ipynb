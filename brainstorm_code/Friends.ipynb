{
 "cells": [
  {
   "cell_type": "code",
   "execution_count": 1,
   "metadata": {},
   "outputs": [],
   "source": [
    "import networkx as nx\n",
    "import numpy as np\n",
    "import pandas as pd\n",
    "import matplotlib.pyplot as plt\n",
    "from pandas import Series, DataFrame\n",
    "\n",
    "%matplotlib inline\n",
    "\n",
    "import os"
   ]
  },
  {
   "cell_type": "code",
   "execution_count": 58,
   "metadata": {},
   "outputs": [],
   "source": [
    "#Load Pickles\n",
    "review1_df = pd.read_pickle('./review1_df.pkl')\n",
    "business_df = pd.read_pickle('./business_df.pkl')\n",
    "user_df = pd.read_pickle('./user_df.pkl')"
   ]
  },
  {
   "cell_type": "code",
   "execution_count": 67,
   "metadata": {},
   "outputs": [
    {
     "data": {
      "text/plain": [
       "average_stars                         4\n",
       "friends                            None\n",
       "name                               Andy\n",
       "review_count                          1\n",
       "useful                                0\n",
       "user_id          QPT4Ud4H5sJVr68yXhoWFw\n",
       "Name: 2, dtype: object"
      ]
     },
     "execution_count": 67,
     "metadata": {},
     "output_type": "execute_result"
    }
   ],
   "source": [
    "user_df.iloc[2]"
   ]
  },
  {
   "cell_type": "code",
   "execution_count": 59,
   "metadata": {},
   "outputs": [],
   "source": [
    "user_df2 = user_df.iloc[:100000]"
   ]
  },
  {
   "cell_type": "code",
   "execution_count": 141,
   "metadata": {},
   "outputs": [],
   "source": [
    "Gfriends = nx.Graph()"
   ]
  },
  {
   "cell_type": "code",
   "execution_count": 142,
   "metadata": {},
   "outputs": [],
   "source": [
    "with_friends = {}\n",
    "for row in user_df2.itertuples(index=True):\n",
    "    u,fs = (row.user_id,row.friends)\n",
    "    if fs == 'None': \n",
    "        Gfriends.add_node(u)\n",
    "        continue\n",
    "    with_friends[u] = {'average_stars':row.average_stars, 'review_count':row.review_count}\n",
    "    for f in fs.split(', '):\n",
    "        Gfriends.add_edge(u,fs)"
   ]
  },
  {
   "cell_type": "code",
   "execution_count": 74,
   "metadata": {},
   "outputs": [
    {
     "data": {
      "text/plain": [
       "(array([1.29998e+05, 2.14000e+02, 2.50000e+01, 7.00000e+00, 3.00000e+00,\n",
       "        4.00000e+00, 2.00000e+00, 2.00000e+00, 1.00000e+00, 1.00000e+00]),\n",
       " array([ 0. ,  1.2,  2.4,  3.6,  4.8,  6. ,  7.2,  8.4,  9.6, 10.8, 12. ]),\n",
       " <a list of 10 Patch objects>)"
      ]
     },
     "execution_count": 74,
     "metadata": {},
     "output_type": "execute_result"
    },
    {
     "data": {
      "image/png": "[encoded data removed]",
      "text/plain": [
       "<matplotlib.figure.Figure at 0x352227fbf60>"
      ]
     },
     "metadata": {},
     "output_type": "display_data"
    }
   ],
   "source": [
    "plt.hist([Gfriends.degree(n) for n in Gfriends.nodes])"
   ]
  },
  {
   "cell_type": "code",
   "execution_count": 75,
   "metadata": {},
   "outputs": [
    {
     "name": "stdout",
     "output_type": "stream",
     "text": [
      "The maximum degree is: 12\n",
      "The minimum degree is: 0\n"
     ]
    }
   ],
   "source": [
    "print('The maximum degree is: %d' % max([i[1] for i in Gfriends.degree]))\n",
    "print('The minimum degree is: %d' % min([i[1] for i in Gfriends.degree]))"
   ]
  },
  {
   "cell_type": "code",
   "execution_count": 76,
   "metadata": {},
   "outputs": [
    {
     "data": {
      "text/plain": [
       "<matplotlib.collections.PathCollection at 0x153ed125710>"
      ]
     },
     "execution_count": 76,
     "metadata": {},
     "output_type": "execute_result"
    },
    {
     "data": {
      "image/png": "[encoded data removed]",
      "text/plain": [
       "<matplotlib.figure.Figure at 0x153ed079780>"
      ]
     },
     "metadata": {},
     "output_type": "display_data"
    }
   ],
   "source": [
    "hist, bin_edges = np.histogram([i[1] for i in Gfriends.degree], bins=12)\n",
    "middle_edges = [(bin_edges[i] + bin_edges[i-1])/2 for i in range(1,len(bin_edges))]\n",
    "plt.subplot(2,1,1)\n",
    "plt.scatter(middle_edges, hist, s=3)\n",
    "plt.subplot(2,1,2)\n",
    "plt.scatter(np.log(middle_edges), np.log(hist),s=3)"
   ]
  },
  {
   "cell_type": "code",
   "execution_count": 79,
   "metadata": {},
   "outputs": [],
   "source": [
    "#Friendship Paradox\n",
    "diffs = []\n",
    "for usr in with_friends.keys():\n",
    "    diffs.append(Gfriends.degree(usr) - np.mean([Gfriends.degree(f) for f in Gfriends.adj[usr]]))\n",
    "print(len([i for i in diffs if i < 0]))"
   ]
  },
  {
   "cell_type": "code",
   "execution_count": 170,
   "metadata": {},
   "outputs": [
    {
     "name": "stdout",
     "output_type": "stream",
     "text": [
      "0.9981401722787784\n"
     ]
    },
    {
     "data": {
      "text/plain": [
       "(array([6.0000e+00, 4.0000e+00, 9.0000e+00, 2.4000e+01, 3.2000e+01,\n",
       "        1.3980e+03, 1.1980e+03, 4.4920e+03, 1.1316e+04, 1.2169e+04]),\n",
       " array([-4. , -3.1, -2.2, -1.3, -0.4,  0.5,  1.4,  2.3,  3.2,  4.1,  5. ]),\n",
       " <a list of 10 Patch objects>)"
      ]
     },
     "execution_count": 170,
     "metadata": {},
     "output_type": "execute_result"
    },
    {
     "data": {
      "image/png": "[encoded data removed]",
      "text/plain": [
       "<matplotlib.figure.Figure at 0x153f1fbce10>"
      ]
     },
     "metadata": {},
     "output_type": "display_data"
    }
   ],
   "source": [
    "#Rating Paradox?\n",
    "diffs = []\n",
    "for usr in with_friends.keys():\n",
    "    diffs.append(with_friends[usr]['average_stars'] - np.mean([\n",
    "                 with_friends[f]['average_stars'] if f in with_friends.keys() else 0 for f in Gfriends.adj[usr]]))\n",
    "print(len([i for i in diffs if i > 0]) / len(diffs))\n",
    "plt.hist(diffs)"
   ]
  },
  {
   "cell_type": "code",
   "execution_count": 173,
   "metadata": {},
   "outputs": [
    {
     "data": {
      "text/plain": [
       "<matplotlib.collections.PathCollection at 0x153ea0fe9e8>"
      ]
     },
     "execution_count": 173,
     "metadata": {},
     "output_type": "execute_result"
    },
    {
     "data": {
      "image/png": "[encoded data removed]",
      "text/plain": [
       "<matplotlib.figure.Figure at 0x153e7b180f0>"
      ]
     },
     "metadata": {},
     "output_type": "display_data"
    }
   ],
   "source": [
    "hist, bin_edges = np.histogram([i for i in diffs if i > 0])\n",
    "middle_edges = [(bin_edges[i] + bin_edges[i-1])/2 for i in range(1,len(bin_edges))]\n",
    "plt.subplot(2,1,1)\n",
    "plt.scatter(middle_edges, hist, s=3)\n",
    "plt.subplot(2,1,2)\n",
    "plt.scatter(np.log(middle_edges), np.log(hist),s=3)"
   ]
  },
  {
   "cell_type": "code",
   "execution_count": 176,
   "metadata": {},
   "outputs": [
    {
     "name": "stdout",
     "output_type": "stream",
     "text": [
      "0.9970308013573479\n"
     ]
    },
    {
     "data": {
      "text/plain": [
       "<function matplotlib.pyplot.show>"
      ]
     },
     "execution_count": 176,
     "metadata": {},
     "output_type": "execute_result"
    },
    {
     "data": {
      "image/png": "[encoded data removed]",
      "text/plain": [
       "<matplotlib.figure.Figure at 0x153e9ed1c50>"
      ]
     },
     "metadata": {},
     "output_type": "display_data"
    }
   ],
   "source": [
    "#Reviewing Paradox?\n",
    "diffs = []\n",
    "for usr in with_friends.keys():\n",
    "    diffs.append(with_friends[usr]['review_count'] - np.mean([\n",
    "                 with_friends[f]['review_count'] if f in with_friends.keys() else 0 for f in Gfriends.adj[usr]]))\n",
    "print(len([i for i in diffs if i >0]) / len(diffs))\n",
    "plt.hist(diffs,bins=40)\n",
    "plt.show"
   ]
  },
  {
   "cell_type": "code",
   "execution_count": 177,
   "metadata": {},
   "outputs": [
    {
     "name": "stderr",
     "output_type": "stream",
     "text": [
      "C:\\Users\\Ronan Perry\\Anaconda3\\lib\\site-packages\\ipykernel_launcher.py:6: RuntimeWarning: divide by zero encountered in log\n",
      "  \n"
     ]
    },
    {
     "data": {
      "text/plain": [
       "<matplotlib.collections.PathCollection at 0x153e995b908>"
      ]
     },
     "execution_count": 177,
     "metadata": {},
     "output_type": "execute_result"
    },
    {
     "data": {
      "image/png": "[encoded data removed]",
      "text/plain": [
       "<matplotlib.figure.Figure at 0x153e933ac88>"
      ]
     },
     "metadata": {},
     "output_type": "display_data"
    }
   ],
   "source": [
    "hist, bin_edges = np.histogram([i for i in diffs if i > 0])\n",
    "middle_edges = [(bin_edges[i] + bin_edges[i-1])/2 for i in range(1,len(bin_edges))]\n",
    "plt.subplot(2,1,1)\n",
    "plt.scatter(middle_edges, hist, s=3)\n",
    "plt.subplot(2,1,2)\n",
    "plt.scatter(np.log(middle_edges), np.log(hist),s=3)"
   ]
  },
  {
   "cell_type": "code",
   "execution_count": 193,
   "metadata": {},
   "outputs": [],
   "source": [
    "wf = []\n",
    "wof = []\n",
    "for row in user_df2.itertuples(index=True):\n",
    "    if row.friends == 'None':\n",
    "        wof.append(row.review_count)\n",
    "    else:\n",
    "        wf.append(row.review_count)"
   ]
  },
  {
   "cell_type": "code",
   "execution_count": 194,
   "metadata": {},
   "outputs": [
    {
     "name": "stderr",
     "output_type": "stream",
     "text": [
      "C:\\Users\\Ronan Perry\\Anaconda3\\lib\\site-packages\\ipykernel_launcher.py:11: RuntimeWarning: divide by zero encountered in log\n",
      "  # This is added back by InteractiveShellApp.init_path()\n",
      "C:\\Users\\Ronan Perry\\Anaconda3\\lib\\site-packages\\ipykernel_launcher.py:12: RuntimeWarning: divide by zero encountered in log\n",
      "  if sys.path[0] == '':\n"
     ]
    },
    {
     "data": {
      "text/plain": [
       "<matplotlib.collections.PathCollection at 0x153f33f4f60>"
      ]
     },
     "execution_count": 194,
     "metadata": {},
     "output_type": "execute_result"
    },
    {
     "data": {
      "image/png": "[encoded data removed]",
      "text/plain": [
       "<matplotlib.figure.Figure at 0x153f06ce898>"
      ]
     },
     "metadata": {},
     "output_type": "display_data"
    }
   ],
   "source": [
    "plt.figure(figsize=(20,10))\n",
    "hist1, bin_edges1 = np.histogram(wf)\n",
    "hist2, bin_edges2 = np.histogram(wof)\n",
    "middle_edges1 = [(bin_edges1[i] + bin_edges1[i-1])/2 for i in range(1,len(bin_edges1))]\n",
    "middle_edges2 = [(bin_edges2[i] + bin_edges2[i-1])/2 for i in range(1,len(bin_edges2))]\n",
    "\n",
    "plt.subplot(2,1,1)\n",
    "plt.scatter(middle_edges1, hist1, s=3,c='blue')\n",
    "plt.scatter(middle_edges2, hist2, s=3,c='red')\n",
    "plt.subplot(2,1,2)\n",
    "plt.scatter(np.log(middle_edges1), np.log(hist1),s=3,c='blue')\n",
    "plt.scatter(np.log(middle_edges1), np.log(hist2),s=3,c='red')"
   ]
  },
  {
   "cell_type": "code",
   "execution_count": null,
   "metadata": {},
   "outputs": [],
   "source": []
  }
 ],
 "metadata": {
  "kernelspec": {
   "display_name": "Python 3",
   "language": "python",
   "name": "python3"
  },
  "language_info": {
   "codemirror_mode": {
    "name": "ipython",
    "version": 3
   },
   "file_extension": ".py",
   "mimetype": "text/x-python",
   "name": "python",
   "nbconvert_exporter": "python",
   "pygments_lexer": "ipython3",
   "version": "3.6.3"
  }
 },
 "nbformat": 4,
 "nbformat_minor": 2
}
