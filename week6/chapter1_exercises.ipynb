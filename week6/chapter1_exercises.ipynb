{
 "cells": [
  {
   "cell_type": "code",
   "execution_count": 31,
   "metadata": {},
   "outputs": [],
   "source": [
    "import nltk\n",
    "from nltk.book import *\n",
    "import numpy as np\n",
    "import matplotlib.pyplot as plt"
   ]
  },
  {
   "cell_type": "code",
   "execution_count": 2,
   "metadata": {},
   "outputs": [],
   "source": [
    "def lexical_diversity(text):\n",
    "    return len(set(text)) / len(text)\n",
    "\n",
    "def percentage(count, total):\n",
    "    return 100 * count / total"
   ]
  },
  {
   "cell_type": "markdown",
   "metadata": {},
   "source": [
    "### Text operations"
   ]
  },
  {
   "cell_type": "markdown",
   "metadata": {},
   "source": [
    "Concordance: Usages of a word"
   ]
  },
  {
   "cell_type": "code",
   "execution_count": 5,
   "metadata": {},
   "outputs": [
    {
     "name": "stdout",
     "output_type": "stream",
     "text": [
      "Displaying 25 of 115 matches:\n",
      "was good . And God said , Let us make man in our image , after our likene and l\n",
      "epeth upon the earth . So God created man in his own image , in the image of Go\n",
      " upon the earth , and there was not a man to till the ground . But there went u\n",
      " the ground . And the LORD God formed man of the dust of the ground , and breat\n",
      "his nostrils the breath of life ; and man became a living soul . And the LORD G\n",
      "stward in Eden ; and there he put the man whom he had formed . And out of the g\n",
      "Euphrates . And the LORD God took the man , and put him into the garden of Eden\n",
      "p it . And the LORD God commanded the man , saying , Of every tree of the garde\n",
      "RD God said , It is not good that the man should be alone ; I will make him an \n",
      "b , which the LORD God had taken from man , made he a woman , and brought her u\n",
      "he a woman , and brought her unto the man . And Adam said , This is now bone of\n",
      " Woman , because she was taken out of Man . Therefore shall a man leave his fat\n",
      " taken out of Man . Therefore shall a man leave his father and his mother , and\n",
      "lesh . And they were both naked , the man and his wife , and were not ashamed .\n",
      "that thou shouldest not eat ? And the man said , The woman whom thou gavest to \n",
      " And the LORD God said , Behold , the man is become as one of us , to know good\n",
      "ce he was taken . So he drove out the man ; and he placed at the east of the ga\n",
      "are Cain , and said , I have gotten a man from the LORD . And she again bare hi\n",
      "arken unto my spee for I have slain a man to my wounding , and a young man to m\n",
      "in a man to my wounding , and a young man to my hurt . If Cain shall be avenged\n",
      "of Adam . In the day that God created man , in the likeness of God made he him \n",
      "y spirit shall not always strive with man , for that he also is fle yet his day\n",
      " . And God saw that the wickedness of man was great in the earth , and that eve\n",
      "it repented the LORD that he had made man on the earth , and it grieved him at \n",
      " . And the LORD said , I will destroy man whom I have created from the face of \n"
     ]
    }
   ],
   "source": [
    "text3.concordance(\"man\")"
   ]
  },
  {
   "cell_type": "markdown",
   "metadata": {},
   "source": [
    "Similar: Find words used in similar contexts"
   ]
  },
  {
   "cell_type": "code",
   "execution_count": 6,
   "metadata": {},
   "outputs": [
    {
     "name": "stdout",
     "output_type": "stream",
     "text": [
      "land lord men place woman earth waters well city lad day cattle field\n",
      "wife way flood servant people famine pillar\n"
     ]
    }
   ],
   "source": [
    "text3.similar(\"man\")"
   ]
  },
  {
   "cell_type": "markdown",
   "metadata": {},
   "source": [
    "Common Contexts: Find the contexts where 2 or more words share common contexts"
   ]
  },
  {
   "cell_type": "code",
   "execution_count": 9,
   "metadata": {},
   "outputs": [
    {
     "name": "stdout",
     "output_type": "stream",
     "text": [
      "the_and the_said the_is the_came the_who the_the the_did the_that\n"
     ]
    }
   ],
   "source": [
    "text3.common_contexts([\"man\", \"lord\"])"
   ]
  },
  {
   "cell_type": "markdown",
   "metadata": {},
   "source": [
    "Comment: Here we can see that the sentences 'The lord said..' and 'The man said' both appear in the text, and the common context here is 'The ____ said'"
   ]
  },
  {
   "cell_type": "markdown",
   "metadata": {},
   "source": [
    "### Dispersion Plot"
   ]
  },
  {
   "cell_type": "code",
   "execution_count": 15,
   "metadata": {},
   "outputs": [
    {
     "data": {
      "image/png": "[encoded data removed]",
      "text/plain": [
       "<Figure size 432x288 with 1 Axes>"
      ]
     },
     "metadata": {},
     "output_type": "display_data"
    }
   ],
   "source": [
    "text3.dispersion_plot(['lord', 'man', 'earth', 'destroy', 'flood'])"
   ]
  },
  {
   "cell_type": "markdown",
   "metadata": {},
   "source": [
    "### Lexical diversity\n",
    "Lexical diversity is a measure how many different words a text is composed of."
   ]
  },
  {
   "cell_type": "code",
   "execution_count": 21,
   "metadata": {},
   "outputs": [
    {
     "data": {
      "text/plain": [
       "(0.1276595744680851, 0.04826383002768831, 0.06230453042623537)"
      ]
     },
     "execution_count": 21,
     "metadata": {},
     "output_type": "execute_result"
    }
   ],
   "source": [
    "lexical_diversity(text6), lexical_diversity(text2), lexical_diversity(text3)"
   ]
  },
  {
   "cell_type": "markdown",
   "metadata": {},
   "source": [
    "Monty Python and the Holy Grail is the most lexically diverse text"
   ]
  },
  {
   "cell_type": "markdown",
   "metadata": {},
   "source": [
    "### Frequency Distributions"
   ]
  },
  {
   "cell_type": "code",
   "execution_count": 29,
   "metadata": {},
   "outputs": [],
   "source": [
    "# FreqDist is a built in function from NLTK\n",
    "freq_dist = FreqDist(text2)"
   ]
  },
  {
   "cell_type": "code",
   "execution_count": 50,
   "metadata": {},
   "outputs": [
    {
     "data": {
      "text/plain": [
       "<Figure size 1080x360 with 0 Axes>"
      ]
     },
     "metadata": {},
     "output_type": "display_data"
    },
    {
     "data": {
      "image/png": "[encoded data removed]",
      "text/plain": [
       "<Figure size 1080x360 with 1 Axes>"
      ]
     },
     "metadata": {},
     "output_type": "display_data"
    }
   ],
   "source": [
    "plt.figure(figsize=[15,5])\n",
    "freq_dist.plot(75, cumulative=True)"
   ]
  },
  {
   "cell_type": "markdown",
   "metadata": {},
   "source": [
    "| Function | Example |\n",
    "| ------------- |:-------------:| -----:|\n",
    "| fdist = FreqDist(samples) | create a frequency distribution containing the given samples |\n",
    "| fdist[sample] += 1 | increment the count for this sample |\n",
    "| fdist['monstrous']| count of the number of times a given sample occurred |\n",
    "| fdist.freq('monstrous')| frequency of a given sample |\n",
    "| fdist.N() | total number of samples |\n",
    "| fdist.most_common(n) | the n most common samples and their frequencies |\n",
    "| for sample in fdist: | iterate over the samples |\n",
    "| fdist.max() | sample with the greatest count |\n",
    "| fdist.tabulate() | tabulate the frequency distribution |\n",
    "| fdist.plot() | graphical plot of the frequency distribution |\n",
    "| fdist.plot(cumulative=True) | cumulative plot of the frequency distribution |\n",
    "| fdist1 &#124;= fdist2 | update fdist1 with counts from fdist2 | \n",
    "| fdist1 < fdist2 | test if samples in fdist1 occur less frequently than in fdist2 |"
   ]
  },
  {
   "cell_type": "markdown",
   "metadata": {},
   "source": [
    "### Bi-grams\n",
    "\n",
    "Bigrams are word pairs that often fit together, collocations are unusual word pairs than appear together often"
   ]
  },
  {
   "cell_type": "code",
   "execution_count": 51,
   "metadata": {},
   "outputs": [
    {
     "data": {
      "text/plain": [
       "[('more', 'is'), ('is', 'said'), ('said', 'than'), ('than', 'done')]"
      ]
     },
     "execution_count": 51,
     "metadata": {},
     "output_type": "execute_result"
    }
   ],
   "source": [
    "list(nltk.bigrams(['more', 'is', 'said', 'than', 'done']))"
   ]
  },
  {
   "cell_type": "code",
   "execution_count": 52,
   "metadata": {},
   "outputs": [
    {
     "name": "stdout",
     "output_type": "stream",
     "text": [
      "said unto; pray thee; thou shalt; thou hast; thy seed; years old;\n",
      "spake unto; thou art; LORD God; every living; God hath; begat sons;\n",
      "seven years; shalt thou; little ones; living creature; creeping thing;\n",
      "savoury meat; thirty years; every beast\n"
     ]
    }
   ],
   "source": [
    "text3.collocations()"
   ]
  },
  {
   "cell_type": "markdown",
   "metadata": {},
   "source": [
    "## Exercises"
   ]
  },
  {
   "cell_type": "markdown",
   "metadata": {},
   "source": [
    "* Given an alphabet of 26 letters, there are 26 to the power 10, or $26^{10}$, ten-letter strings we can form. That works out to $141167095653376$. How many hundred-letter strings are possible?"
   ]
  },
  {
   "cell_type": "code",
   "execution_count": 58,
   "metadata": {},
   "outputs": [
    {
     "data": {
      "text/plain": [
       "'3.14E+141'"
      ]
     },
     "execution_count": 58,
     "metadata": {},
     "output_type": "execute_result"
    }
   ],
   "source": [
    "\"%.2E\" % 26**100"
   ]
  },
  {
   "cell_type": "markdown",
   "metadata": {},
   "source": [
    "* The Python multiplication operation can be applied to lists. What happens when you type ['Monty', 'Python'] \\* 20, or 3 \\* sent1?\n",
    "\n",
    "Answer: It creates a new list, repeating the elements in the original list 20 times"
   ]
  },
  {
   "cell_type": "markdown",
   "metadata": {},
   "source": [
    "* Review 1 on computing with language. How many words are there in text2? How many distinct words are there?"
   ]
  },
  {
   "cell_type": "code",
   "execution_count": 64,
   "metadata": {},
   "outputs": [
    {
     "name": "stdout",
     "output_type": "stream",
     "text": [
      "Word count 141576\n",
      "Distinct words 6833\n"
     ]
    }
   ],
   "source": [
    "print('Word count', len(text2))\n",
    "print('Distinct words',len(set(text2)))"
   ]
  },
  {
   "cell_type": "markdown",
   "metadata": {},
   "source": [
    "* Compare the lexical diversity scores for humor and romance fiction in 1.1. Which genre is more lexically diverse?\n",
    "*Answer: Science fiction has almost twice as many distinct words*"
   ]
  },
  {
   "cell_type": "markdown",
   "metadata": {},
   "source": [
    "* Produce a dispersion plot of the four main protagonists in Text 2, Sense and Sensibility: Elinor, Marianne, Edward, and Willoughby. What can you observe about the different roles played by the males and females in this novel? Can you identify the couples?"
   ]
  },
  {
   "cell_type": "code",
   "execution_count": 69,
   "metadata": {},
   "outputs": [
    {
     "data": {
      "image/png": "[encoded data removed]",
      "text/plain": [
       "<Figure size 432x288 with 1 Axes>"
      ]
     },
     "metadata": {},
     "output_type": "display_data"
    }
   ],
   "source": [
    "text2.dispersion_plot(['Elinor', 'Marianne', 'Edward', 'Willoughby'])"
   ]
  },
  {
   "cell_type": "markdown",
   "metadata": {},
   "source": [
    "Elinor the most mentioned, followed by Marianne Edward and Willoughby are less mentioned, and with great gaps between mentions. The first two females are mentioned more or less constantly throughout the text"
   ]
  },
  {
   "cell_type": "markdown",
   "metadata": {},
   "source": [
    "* Find the collocations in text5."
   ]
  },
  {
   "cell_type": "code",
   "execution_count": 70,
   "metadata": {},
   "outputs": [
    {
     "name": "stdout",
     "output_type": "stream",
     "text": [
      "wanna chat; PART JOIN; MODE #14-19teens; JOIN PART; PART PART;\n",
      "cute.-ass MP3; MP3 player; JOIN JOIN; times .. .; ACTION watches; guys\n",
      "wanna; song lasts; last night; ACTION sits; -...)...- S.M.R.; Lime\n",
      "Player; Player 12%; dont know; lez gurls; long time\n"
     ]
    }
   ],
   "source": [
    "text5.collocations()"
   ]
  },
  {
   "cell_type": "markdown",
   "metadata": {},
   "source": [
    "* Consider the following Python expression: len(set(text4)). State the purpose of this expression. Describe the two steps involved in performing this computation.\n",
    "\n",
    "*Answer: Counting the number of words*"
   ]
  },
  {
   "cell_type": "markdown",
   "metadata": {},
   "source": [
    "* We have seen how to represent a sentence as a list of words, where each word is a sequence of characters. What does sent1[2][2] do? Why? Experiment with other index values."
   ]
  },
  {
   "cell_type": "code",
   "execution_count": 72,
   "metadata": {},
   "outputs": [
    {
     "data": {
      "text/plain": [
       "'h'"
      ]
     },
     "execution_count": 72,
     "metadata": {},
     "output_type": "execute_result"
    }
   ],
   "source": [
    "# 3rd character of the 3rd word in the sent2 text\n",
    "sent1[2][2]"
   ]
  },
  {
   "cell_type": "markdown",
   "metadata": {},
   "source": [
    "*  Write the slice expression that extracts the last two words of text2."
   ]
  },
  {
   "cell_type": "code",
   "execution_count": 84,
   "metadata": {},
   "outputs": [
    {
     "data": {
      "text/plain": [
       "['THE', 'END']"
      ]
     },
     "execution_count": 84,
     "metadata": {},
     "output_type": "execute_result"
    }
   ],
   "source": [
    "text2[-2:]"
   ]
  },
  {
   "cell_type": "markdown",
   "metadata": {},
   "source": [
    "* Exercises: 15, 17, 19, 22, 23, 26, 27, 28\n",
    "\n",
    "15: Find all words in the Chat Corpus (text5) starting with the letter b. Show them in alphabetical order."
   ]
  },
  {
   "cell_type": "code",
   "execution_count": 96,
   "metadata": {},
   "outputs": [],
   "source": [
    "b_words = [w for w in set(text5) if w.startswith('b')]"
   ]
  },
  {
   "cell_type": "markdown",
   "metadata": {},
   "source": [
    "* Use text9.index() to find the index of the word sunset. You'll need to insert this word as an argument between the parentheses. By a process of trial and error, find the slice for the complete sentence that contains this word."
   ]
  },
  {
   "cell_type": "code",
   "execution_count": 103,
   "metadata": {},
   "outputs": [
    {
     "data": {
      "text/plain": [
       "'CHAPTER I THE TWO POETS OF SAFFRON PARK THE suburb of Saffron Park lay on the sunset side of London , as red and ragged as a cloud of sunset .'"
      ]
     },
     "execution_count": 103,
     "metadata": {},
     "output_type": "execute_result"
    }
   ],
   "source": [
    "i = text9.index(\"sunset\")\n",
    "\" \".join(text9[i-16:i+15])"
   ]
  },
  {
   "cell_type": "markdown",
   "metadata": {},
   "source": [
    "* 22: Find all the four-letter words in the Chat Corpus (text5). With the help of a frequency distribution (FreqDist), show these words in decreasing order of frequency."
   ]
  },
  {
   "cell_type": "code",
   "execution_count": 129,
   "metadata": {},
   "outputs": [
    {
     "data": {
      "image/png": "[encoded data removed]",
      "text/plain": [
       "<Figure size 1080x360 with 1 Axes>"
      ]
     },
     "metadata": {},
     "output_type": "display_data"
    }
   ],
   "source": [
    "fdist5_len4 = FreqDist(w for w in text5 if len(w) == 4)\n",
    "plt.figure(figsize=[15,5])\n",
    "fdist5_len4.plot(50)"
   ]
  },
  {
   "cell_type": "markdown",
   "metadata": {},
   "source": [
    " * 23: Use a combination of for and if statements to loop over the words of the movie script for Monty Python and the Holy Grail (text6) and print all the uppercase words, one per line."
   ]
  },
  {
   "cell_type": "code",
   "execution_count": 135,
   "metadata": {},
   "outputs": [],
   "source": [
    "for word in text6:\n",
    "    if word.isupper():\n",
    "        word"
   ]
  },
  {
   "cell_type": "markdown",
   "metadata": {},
   "source": [
    "* 25: Define sent to be the list of words ['she', 'sells', 'sea', 'shells', 'by', 'the', 'sea', 'shore']. Now write code to perform the following tasks:\n",
    "\n",
    " * Print all words beginning with sh\n",
    " * Print all words longer than four characters"
   ]
  },
  {
   "cell_type": "code",
   "execution_count": 139,
   "metadata": {},
   "outputs": [
    {
     "name": "stdout",
     "output_type": "stream",
     "text": [
      "SH words:  ['she', 'shells', 'shore']\n",
      "Length > 4:  ['sells', 'shells', 'shore']\n"
     ]
    }
   ],
   "source": [
    "words = ['she', 'sells', 'sea', 'shells', 'by', 'the', 'sea', 'shore']\n",
    "print(\"SH words: \", [w for w in words if w.startswith(\"sh\")])\n",
    "print(\"Length > 4: \", [w for w in words if len(w) > 4])"
   ]
  },
  {
   "cell_type": "markdown",
   "metadata": {},
   "source": [
    "* What does the following Python code do?  \n",
    "\n",
    " * sum(len(w) for w in text1) \n",
    "\n",
    "* Can you use it to work out the average word length of a text?\n",
    "\n",
    "*Answer: It calcualted the total number of characters. By dividing by the number of words, the average word length is calculated*"
   ]
  },
  {
   "cell_type": "code",
   "execution_count": 141,
   "metadata": {},
   "outputs": [
    {
     "data": {
      "text/plain": [
       "3.830411128023649"
      ]
     },
     "execution_count": 141,
     "metadata": {},
     "output_type": "execute_result"
    }
   ],
   "source": [
    "sum(len(w) for w in text1) / len(text1)"
   ]
  },
  {
   "cell_type": "markdown",
   "metadata": {},
   "source": [
    "*  27: Define a function called vocab_size(text) that has a single parameter for the text, and which returns the vocabulary size of the text.\n",
    "\n",
    "* 28: Define a function percent(word, text) that calculates how often a given word occurs in a text, and expresses the result as a percentage."
   ]
  },
  {
   "cell_type": "code",
   "execution_count": 147,
   "metadata": {},
   "outputs": [],
   "source": [
    "def vocab_size(text):\n",
    "    return len(set(w.lower() for w in text))\n",
    "\n",
    "def percentage(word, text):\n",
    "    return 100 * text.count(word) / len(text)"
   ]
  },
  {
   "cell_type": "code",
   "execution_count": null,
   "metadata": {},
   "outputs": [],
   "source": []
  },
  {
   "cell_type": "code",
   "execution_count": null,
   "metadata": {},
   "outputs": [],
   "source": []
  },
  {
   "cell_type": "code",
   "execution_count": null,
   "metadata": {},
   "outputs": [],
   "source": []
  }
 ],
 "metadata": {
  "kernelspec": {
   "display_name": "Python 3",
   "language": "python",
   "name": "python3"
  },
  "language_info": {
   "codemirror_mode": {
    "name": "ipython",
    "version": 3
   },
   "file_extension": ".py",
   "mimetype": "text/x-python",
   "name": "python",
   "nbconvert_exporter": "python",
   "pygments_lexer": "ipython3",
   "version": "3.6.6"
  }
 },
 "nbformat": 4,
 "nbformat_minor": 2
}
