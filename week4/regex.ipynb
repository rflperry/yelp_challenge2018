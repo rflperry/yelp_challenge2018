{
 "cells": [
  {
   "cell_type": "markdown",
   "metadata": {},
   "source": [
    "# Week 4\n",
    "## Prelude: RegEx\n",
    "**Explain in your own words: what are regular expressions?**\n",
    "RegEx is a way of encapsulating the structure of regular languages, that is, languages which can be described with a finite state automaton. \n",
    "For our purposes of parsing text, we can consider English a regular language, even though matching brackets cannot be achieved by a regex, and one needs a context free grammar to do so.\n",
    "\n",
    "**Provide an example of a regex to match 4 digits numbers**"
   ]
  },
  {
   "cell_type": "code",
   "execution_count": 1,
   "metadata": {},
   "outputs": [],
   "source": [
    "import urllib2\n",
    "response = urllib2.urlopen('https://raw.githubusercontent.com/suneman/socialgraphs2017/master/files/test.txt')\n",
    "html = response.read()"
   ]
  },
  {
   "cell_type": "markdown",
   "metadata": {},
   "source": [
    "The RegEx: **\\b(\\d{4})\\b** will catch any 4 digit number, delimited by two boundaries."
   ]
  },
  {
   "cell_type": "code",
   "execution_count": 5,
   "metadata": {},
   "outputs": [
    {
     "data": {
      "text/plain": [
       "['1234', '9999']"
      ]
     },
     "execution_count": 5,
     "metadata": {},
     "output_type": "execute_result"
    }
   ],
   "source": [
    "import re\n",
    "pattern = r'\\b(\\d{4})\\b'\n",
    "re.findall(pattern, html)"
   ]
  },
  {
   "cell_type": "markdown",
   "metadata": {},
   "source": [
    "**Provide an example of a regex to match words starting with \"super\".**\n",
    "\n",
    "Solution: \"\\b(super\\w*)\\b\""
   ]
  },
  {
   "cell_type": "code",
   "execution_count": 6,
   "metadata": {},
   "outputs": [
    {
     "data": {
      "text/plain": [
       "['superpolaroid', 'supertaxidermy', 'superbeer']"
      ]
     },
     "execution_count": 6,
     "metadata": {},
     "output_type": "execute_result"
    }
   ],
   "source": [
    "pattern_super = r'\\b(super\\w*)\\b'\n",
    "re.findall(pattern_super, html)"
   ]
  },
  {
   "cell_type": "markdown",
   "metadata": {},
   "source": [
    "**Wikipedia Links**"
   ]
  },
  {
   "cell_type": "code",
   "execution_count": 9,
   "metadata": {},
   "outputs": [
    {
     "data": {
      "text/plain": [
       "['[[drinking vinegar]]',\n",
       " '[[gentrify]]',\n",
       " '[[hashtag]]',\n",
       " '[[Bicycle|Bicycle(two-wheeled type)]]',\n",
       " '[[Pitchfork|Pitchfork Magazine]]']"
      ]
     },
     "execution_count": 9,
     "metadata": {},
     "output_type": "execute_result"
    }
   ],
   "source": [
    "first = r'\\[\\[.*?\\]\\]'\n",
    "re.findall(first, html)"
   ]
  },
  {
   "cell_type": "code",
   "execution_count": 23,
   "metadata": {},
   "outputs": [],
   "source": [
    "# (?:) indicates a non-capturing group"
   ]
  },
  {
   "cell_type": "code",
   "execution_count": 22,
   "metadata": {},
   "outputs": [
    {
     "data": {
      "text/plain": [
       "['drinking vinegar', 'gentrify', 'hashtag', 'Bicycle', 'Pitchfork']"
      ]
     },
     "execution_count": 22,
     "metadata": {},
     "output_type": "execute_result"
    }
   ],
   "source": [
    "full_coverage = r'\\[\\[([^\\]]*?)(?:\\|.*?)*\\]\\]'\n",
    "re.findall(full_coverage, html)"
   ]
  },
  {
   "cell_type": "code",
   "execution_count": null,
   "metadata": {},
   "outputs": [],
   "source": []
  }
 ],
 "metadata": {
  "kernelspec": {
   "display_name": "Python 2",
   "language": "python",
   "name": "python2"
  },
  "language_info": {
   "codemirror_mode": {
    "name": "ipython",
    "version": 2
   },
   "file_extension": ".py",
   "mimetype": "text/x-python",
   "name": "python",
   "nbconvert_exporter": "python",
   "pygments_lexer": "ipython2",
   "version": "2.7.15"
  }
 },
 "nbformat": 4,
 "nbformat_minor": 2
}
