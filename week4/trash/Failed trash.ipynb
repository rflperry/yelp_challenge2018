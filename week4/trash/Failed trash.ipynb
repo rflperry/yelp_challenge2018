{
 "cells": [
  {
   "cell_type": "code",
   "execution_count": 42,
   "metadata": {},
   "outputs": [],
   "source": [
    "import re\n",
    "import networkx as nx\n",
    "import pandas as pd\n",
    "import io\n",
    "import numpy as np\n",
    "import matplotlib.pyplot as plt\n",
    "import urllib2"
   ]
  },
  {
   "cell_type": "code",
   "execution_count": 23,
   "metadata": {},
   "outputs": [],
   "source": [
    "class Politician:\n",
    "    def __init__(self, row):\n",
    "        self.WikiPageName = str(row.WikiPageName).encode('UTF-8')\n",
    "        self.Party = str(row.Party).encode('UTF-8')\n",
    "        self.State = str(row.State).encode('UTF-8')\n",
    "    def __hash__(self):\n",
    "        return hash(self.WikiPageName)\n",
    "    def __eq__(self, other):\n",
    "        return (\n",
    "                self.__class__ == other.__class__ and \n",
    "                self.WikiPageName == other.WikiPageName\n",
    "               )"
   ]
  },
  {
   "cell_type": "code",
   "execution_count": 40,
   "metadata": {},
   "outputs": [],
   "source": [
    "class Politician:\n",
    "    def __init__(self, row):\n",
    "        self.WikiPageName = row.WikiPageName\n",
    "        self.Party = row.Party\n",
    "        self.State = row.State\n",
    "    def __hash__(self):\n",
    "        return hash(self.WikiPageName)\n",
    "    def __eq__(self, other):\n",
    "        return (\n",
    "                self.__class__ == other.__class__ and \n",
    "                self.WikiPageName == other.WikiPageName\n",
    "               )"
   ]
  },
  {
   "cell_type": "code",
   "execution_count": 24,
   "metadata": {},
   "outputs": [],
   "source": [
    "df = pd.read_csv('./dataset/H113.csv', encoding='UTF-8')\n",
    "wiki_page_names = list(df.WikiPageName)\n",
    "wiki_page_names = np.array([name.encode('UTF-8') for name in wiki_page_names])"
   ]
  },
  {
   "cell_type": "code",
   "execution_count": null,
   "metadata": {},
   "outputs": [],
   "source": []
  }
 ],
 "metadata": {
  "kernelspec": {
   "display_name": "Python 2",
   "language": "python",
   "name": "python2"
  },
  "language_info": {
   "codemirror_mode": {
    "name": "ipython",
    "version": 2
   },
   "file_extension": ".py",
   "mimetype": "text/x-python",
   "name": "python",
   "nbconvert_exporter": "python",
   "pygments_lexer": "ipython2",
   "version": "2.7.15"
  }
 },
 "nbformat": 4,
 "nbformat_minor": 2
}
