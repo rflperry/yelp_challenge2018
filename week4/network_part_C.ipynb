{
 "cells": [
  {
   "cell_type": "code",
   "execution_count": 414,
   "metadata": {},
   "outputs": [],
   "source": [
    "import re\n",
    "import networkx as nx\n",
    "import pandas as pd\n",
    "import io\n",
    "import numpy as np\n",
    "import matplotlib.pyplot as plt\n"
   ]
  },
  {
   "cell_type": "markdown",
   "metadata": {},
   "source": [
    "Load dataframe"
   ]
  },
  {
   "cell_type": "code",
   "execution_count": 287,
   "metadata": {},
   "outputs": [],
   "source": [
    "df = pd.read_csv('./dataset/H113.csv', encoding='UTF-8')\n",
    "wiki_page_names = list(df.WikiPageName)\n",
    "wiki_page_names = np.array([name.encode('UTF8') for name in wiki_page_names])"
   ]
  },
  {
   "cell_type": "markdown",
   "metadata": {},
   "source": [
    "Makeshift solution because pandas is cancer sometimes"
   ]
  },
  {
   "cell_type": "code",
   "execution_count": 386,
   "metadata": {},
   "outputs": [],
   "source": [
    "class Politician:\n",
    "    def __init__(self, row):\n",
    "        self.WikiPageName = u\"%s\" % (row.WikiPageName)\n",
    "        self.Party = u\"%s\" % row.Party\n",
    "        self.State = u\"%s\" % row.State\n",
    "    def __hash__(self):\n",
    "        return hash(self.WikiPageName)\n",
    "    def __eq__(self, other):\n",
    "        return (\n",
    "                self.__class__ == other.__class__ and \n",
    "                self.WikiPageName == other.WikiPageName\n",
    "               )"
   ]
  },
  {
   "cell_type": "markdown",
   "metadata": {},
   "source": [
    "Read data into an array"
   ]
  },
  {
   "cell_type": "code",
   "execution_count": 395,
   "metadata": {},
   "outputs": [],
   "source": [
    "def get_article_links(name, year):\n",
    "    article_pattern = r'\\[\\[([^\\]]*?)(?:\\|.*?)*\\]\\]'\n",
    "    path_folder = './congress2015/'\n",
    "    article = io.open(path_folder + name + year + '.txt', 'r', encoding='utf-8').read()\n",
    "    article_links = re.findall(article_pattern, article)\n",
    "    article_links = [a.encode('UTF-8').replace(' ', '_') for a in article_links]\n",
    "    return article_links"
   ]
  },
  {
   "cell_type": "markdown",
   "metadata": {},
   "source": [
    "Doesnt work family"
   ]
  },
  {
   "cell_type": "markdown",
   "metadata": {},
   "source": [
    "Using only names as nodes"
   ]
  },
  {
   "cell_type": "code",
   "execution_count": 401,
   "metadata": {},
   "outputs": [],
   "source": [
    "DG = nx.DiGraph()\n",
    "\n",
    "for i,name in enumerate(wiki_page_names):\n",
    "    article_links = get_article_links(name, '2015')\n",
    "    DG.add_node(name)\n",
    "    for link in article_links:\n",
    "        if link in wiki_page_names:\n",
    "            DG.add_edge(name, link)"
   ]
  },
  {
   "cell_type": "markdown",
   "metadata": {},
   "source": [
    "What is the number of nodes in the network? And the number of links?"
   ]
  },
  {
   "cell_type": "code",
   "execution_count": 402,
   "metadata": {},
   "outputs": [
    {
     "name": "stdout",
     "output_type": "stream",
     "text": [
      "Nodes 444\n",
      "Links 1606\n"
     ]
    }
   ],
   "source": [
    "print 'Nodes', len(DG.nodes())\n",
    "print 'Links', len(DG.edges())"
   ]
  },
  {
   "cell_type": "markdown",
   "metadata": {},
   "source": [
    "Plot the in and out-degree distributions."
   ]
  },
  {
   "cell_type": "code",
   "execution_count": 403,
   "metadata": {},
   "outputs": [],
   "source": [
    "# Sorts by highest frequency of degree\n",
    "def degree_sequence_sorted(graph):\n",
    "    return sorted([d for n, d in graph.degree()], reverse=True)"
   ]
  },
  {
   "cell_type": "code",
   "execution_count": 404,
   "metadata": {},
   "outputs": [
    {
     "data": {
      "image/png": "[encoded data removed]",
      "text/plain": [
       "<Figure size 432x288 with 1 Axes>"
      ]
     },
     "metadata": {},
     "output_type": "display_data"
    }
   ],
   "source": [
    "degrees = degree_sequence_sorted(DG)\n",
    "v = range(min(degrees), max(degrees)+1)\n",
    "plt.hist(degrees, bins=v, edgecolor=\"black\")\n",
    "plt.xlabel(\"k\")\n",
    "plt.ylabel(\"Frequency\")\n",
    "plt.title(\"Degree Distribution\")\n",
    "plt.show()"
   ]
  },
  {
   "cell_type": "code",
   "execution_count": 405,
   "metadata": {},
   "outputs": [],
   "source": [
    "most_connected = sorted([(d,n) for n, d in DG.degree()], reverse=True)"
   ]
  },
  {
   "cell_type": "code",
   "execution_count": 406,
   "metadata": {},
   "outputs": [],
   "source": [
    "node = most_connected[0][1]"
   ]
  },
  {
   "cell_type": "code",
   "execution_count": 409,
   "metadata": {},
   "outputs": [
    {
     "name": "stdout",
     "output_type": "stream",
     "text": [
      "Most Connected node: Nancy_Pelosi\n",
      "Outgoing: 11\n",
      "Incoming: 57\n"
     ]
    }
   ],
   "source": [
    "print 'Most Connected node:', node\n",
    "print 'Outgoing:', len(DG.out_edges(node))\n",
    "print 'Incoming:', len(DG.in_edges(node))\n"
   ]
  }
 ],
 "metadata": {
  "kernelspec": {
   "display_name": "Python 2",
   "language": "python",
   "name": "python2"
  },
  "language_info": {
   "codemirror_mode": {
    "name": "ipython",
    "version": 2
   },
   "file_extension": ".py",
   "mimetype": "text/x-python",
   "name": "python",
   "nbconvert_exporter": "python",
   "pygments_lexer": "ipython2",
   "version": "2.7.15"
  }
 },
 "nbformat": 4,
 "nbformat_minor": 2
}
