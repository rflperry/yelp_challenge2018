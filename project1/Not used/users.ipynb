{
 "cells": [
  {
   "cell_type": "code",
   "execution_count": 2,
   "metadata": {},
   "outputs": [],
   "source": [
    "import pandas as pd"
   ]
  },
  {
   "cell_type": "code",
   "execution_count": 4,
   "metadata": {},
   "outputs": [],
   "source": [
    "def cleanup(k):\n",
    "    dirty_path = 'yelp_dataset/yelp_academic_dataset_user.json'\n",
    "    clean_path = \"cleaned/user%i.json\" % k\n",
    "    dirty_file = open(dirty_path, \"r\")\n",
    "    clean_file = open(clean_path, \"w\")\n",
    "    \n",
    "    start = 1000000 * k\n",
    "    end = 1000000 * (k+1)\n",
    "    \n",
    "    content = ''\n",
    "    i = 0\n",
    "    for line in dirty_file:\n",
    "        if i == end:\n",
    "            break\n",
    "        elif i >= start:\n",
    "            s = line.replace('\\n', ',\\n')\n",
    "            content += s\n",
    "        i += 1\n",
    "    payload = '{\"data\" : \\n[%s]}' % (content[:-2] + '\\n')\n",
    "    clean_file.write(payload)"
   ]
  },
  {
   "cell_type": "code",
   "execution_count": 13,
   "metadata": {},
   "outputs": [],
   "source": [
    "for k in range(6):\n",
    "    cleanup(k)\n",
    "    print('Iteration', k, 'done')\n",
    "\n",
    "df0 = pd.DataFrame(list(pd.read_json('cleaned/review0.json').data))\n",
    "df1 = pd.DataFrame(list(pd.read_json('cleaned/review1.json').data))\n",
    "df2 = pd.DataFrame(list(pd.read_json('cleaned/review2.json').data))\n",
    "df3 = pd.DataFrame(list(pd.read_json('cleaned/review3.json').data))\n",
    "df4 = pd.DataFrame(list(pd.read_json('cleaned/review4.json').data))\n",
    "df5 = pd.DataFrame(list(pd.read_json('cleaned/review5.json').data))\n",
    "\n",
    "DF = pd.concat([df0, df1, df2, df3, df4, df5])"
   ]
  },
  {
   "cell_type": "code",
   "execution_count": 14,
   "metadata": {},
   "outputs": [],
   "source": []
  },
  {
   "cell_type": "code",
   "execution_count": 15,
   "metadata": {},
   "outputs": [
    {
     "data": {
      "text/plain": [
       "5996996"
      ]
     },
     "execution_count": 15,
     "metadata": {},
     "output_type": "execute_result"
    }
   ],
   "source": [
    "len(DF)"
   ]
  },
  {
   "cell_type": "code",
   "execution_count": 17,
   "metadata": {},
   "outputs": [],
   "source": [
    "DF2017 = DF[('2016-31-12' < DF.date) & (DF.date < '2018-01-01')]"
   ]
  },
  {
   "cell_type": "code",
   "execution_count": 18,
   "metadata": {},
   "outputs": [],
   "source": [
    "DF2017.to_csv('cleaned_csv/review_2017.csv')"
   ]
  },
  {
   "cell_type": "code",
   "execution_count": 19,
   "metadata": {},
   "outputs": [
    {
     "data": {
      "text/plain": [
       "1194269"
      ]
     },
     "execution_count": 19,
     "metadata": {},
     "output_type": "execute_result"
    }
   ],
   "source": [
    "len(DF2017)"
   ]
  },
  {
   "cell_type": "code",
   "execution_count": 10,
   "metadata": {},
   "outputs": [],
   "source": [
    "rest = pd.read_csv('cleaned_csv/restaurants.csv')"
   ]
  },
  {
   "cell_type": "code",
   "execution_count": 12,
   "metadata": {},
   "outputs": [],
   "source": [
    "rest_id = set(rest.business_id)"
   ]
  },
  {
   "cell_type": "code",
   "execution_count": 21,
   "metadata": {},
   "outputs": [],
   "source": [
    "rest = pd.read_csv('cleaned_csv/restaurants.csv')"
   ]
  },
  {
   "cell_type": "code",
   "execution_count": 23,
   "metadata": {},
   "outputs": [],
   "source": [
    "rest_ids = list(rest.business_id)"
   ]
  },
  {
   "cell_type": "code",
   "execution_count": 38,
   "metadata": {},
   "outputs": [],
   "source": [
    "rest_reviews = DF[DF.business_id.isin(rest_ids)]"
   ]
  },
  {
   "cell_type": "code",
   "execution_count": 39,
   "metadata": {},
   "outputs": [
    {
     "data": {
      "text/plain": [
       "4018725"
      ]
     },
     "execution_count": 39,
     "metadata": {},
     "output_type": "execute_result"
    }
   ],
   "source": [
    "len(rest_reviews)"
   ]
  },
  {
   "cell_type": "code",
   "execution_count": 46,
   "metadata": {},
   "outputs": [
    {
     "data": {
      "text/html": [
       "<div>\n",
       "<style scoped>\n",
       "    .dataframe tbody tr th:only-of-type {\n",
       "        vertical-align: middle;\n",
       "    }\n",
       "\n",
       "    .dataframe tbody tr th {\n",
       "        vertical-align: top;\n",
       "    }\n",
       "\n",
       "    .dataframe thead th {\n",
       "        text-align: right;\n",
       "    }\n",
       "</style>\n",
       "<table border=\"1\" class=\"dataframe\">\n",
       "  <thead>\n",
       "    <tr style=\"text-align: right;\">\n",
       "      <th></th>\n",
       "      <th>business_id</th>\n",
       "      <th>date</th>\n",
       "      <th>review_id</th>\n",
       "      <th>stars</th>\n",
       "      <th>text</th>\n",
       "      <th>user_id</th>\n",
       "    </tr>\n",
       "  </thead>\n",
       "  <tbody>\n",
       "    <tr>\n",
       "      <th>0</th>\n",
       "      <td>iCQpiavjjPzJ5_3gPD5Ebg</td>\n",
       "      <td>2011-02-25</td>\n",
       "      <td>x7mDIiDB3jEiPGPHOmDzyw</td>\n",
       "      <td>2</td>\n",
       "      <td>The pizza was okay. Not the best I've had. I p...</td>\n",
       "      <td>msQe1u7Z_XuqjGoqhB0J5g</td>\n",
       "    </tr>\n",
       "    <tr>\n",
       "      <th>1</th>\n",
       "      <td>pomGBqfbxcqPv14c3XH-ZQ</td>\n",
       "      <td>2012-11-13</td>\n",
       "      <td>dDl8zu1vWPdKGihJrwQbpw</td>\n",
       "      <td>5</td>\n",
       "      <td>I love this place! My fiance And I go here atl...</td>\n",
       "      <td>msQe1u7Z_XuqjGoqhB0J5g</td>\n",
       "    </tr>\n",
       "    <tr>\n",
       "      <th>2</th>\n",
       "      <td>jtQARsP6P-LbkyjbO1qNGg</td>\n",
       "      <td>2014-10-23</td>\n",
       "      <td>LZp4UX5zK3e-c5ZGSeo3kA</td>\n",
       "      <td>1</td>\n",
       "      <td>Terrible. Dry corn bread. Rib tips were all fa...</td>\n",
       "      <td>msQe1u7Z_XuqjGoqhB0J5g</td>\n",
       "    </tr>\n",
       "    <tr>\n",
       "      <th>3</th>\n",
       "      <td>elqbBhBfElMNSrjFqW3now</td>\n",
       "      <td>2011-02-25</td>\n",
       "      <td>Er4NBWCmCD4nM8_p1GRdow</td>\n",
       "      <td>2</td>\n",
       "      <td>Back in 2005-2007 this place was my FAVORITE t...</td>\n",
       "      <td>msQe1u7Z_XuqjGoqhB0J5g</td>\n",
       "    </tr>\n",
       "    <tr>\n",
       "      <th>4</th>\n",
       "      <td>Ums3gaP2qM3W1XcA5r6SsQ</td>\n",
       "      <td>2014-09-05</td>\n",
       "      <td>jsDu6QEJHbwP2Blom1PLCA</td>\n",
       "      <td>5</td>\n",
       "      <td>Delicious healthy food. The steak is amazing. ...</td>\n",
       "      <td>msQe1u7Z_XuqjGoqhB0J5g</td>\n",
       "    </tr>\n",
       "  </tbody>\n",
       "</table>\n",
       "</div>"
      ],
      "text/plain": [
       "              business_id        date               review_id  stars  \\\n",
       "0  iCQpiavjjPzJ5_3gPD5Ebg  2011-02-25  x7mDIiDB3jEiPGPHOmDzyw      2   \n",
       "1  pomGBqfbxcqPv14c3XH-ZQ  2012-11-13  dDl8zu1vWPdKGihJrwQbpw      5   \n",
       "2  jtQARsP6P-LbkyjbO1qNGg  2014-10-23  LZp4UX5zK3e-c5ZGSeo3kA      1   \n",
       "3  elqbBhBfElMNSrjFqW3now  2011-02-25  Er4NBWCmCD4nM8_p1GRdow      2   \n",
       "4  Ums3gaP2qM3W1XcA5r6SsQ  2014-09-05  jsDu6QEJHbwP2Blom1PLCA      5   \n",
       "\n",
       "                                                text                 user_id  \n",
       "0  The pizza was okay. Not the best I've had. I p...  msQe1u7Z_XuqjGoqhB0J5g  \n",
       "1  I love this place! My fiance And I go here atl...  msQe1u7Z_XuqjGoqhB0J5g  \n",
       "2  Terrible. Dry corn bread. Rib tips were all fa...  msQe1u7Z_XuqjGoqhB0J5g  \n",
       "3  Back in 2005-2007 this place was my FAVORITE t...  msQe1u7Z_XuqjGoqhB0J5g  \n",
       "4  Delicious healthy food. The steak is amazing. ...  msQe1u7Z_XuqjGoqhB0J5g  "
      ]
     },
     "execution_count": 46,
     "metadata": {},
     "output_type": "execute_result"
    }
   ],
   "source": [
    "rest_reviews.head()"
   ]
  },
  {
   "cell_type": "code",
   "execution_count": 43,
   "metadata": {},
   "outputs": [],
   "source": [
    "rest_reviews = rest_reviews.drop(['cool', 'funny', 'useful'], axis=1)"
   ]
  },
  {
   "cell_type": "code",
   "execution_count": 45,
   "metadata": {},
   "outputs": [],
   "source": [
    "rest_reviews.to_csv('cleaned_csv/rest_reviews.csv')"
   ]
  },
  {
   "cell_type": "code",
   "execution_count": 47,
   "metadata": {},
   "outputs": [],
   "source": [
    "rest_reviews_no_text = rest_reviews.drop(['text'], axis=1)"
   ]
  },
  {
   "cell_type": "code",
   "execution_count": 48,
   "metadata": {},
   "outputs": [],
   "source": [
    "rest_reviews_no_text.to_csv('cleaned/rest_reviews_no_test.csv')"
   ]
  },
  {
   "cell_type": "code",
   "execution_count": 51,
   "metadata": {},
   "outputs": [
    {
     "data": {
      "text/plain": [
       "'2004-10-12'"
      ]
     },
     "execution_count": 51,
     "metadata": {},
     "output_type": "execute_result"
    }
   ],
   "source": [
    "rest_reviews_no_text.date.min()"
   ]
  },
  {
   "cell_type": "code",
   "execution_count": 52,
   "metadata": {},
   "outputs": [
    {
     "data": {
      "text/plain": [
       "'2018-07-02'"
      ]
     },
     "execution_count": 52,
     "metadata": {},
     "output_type": "execute_result"
    }
   ],
   "source": [
    "rest_reviews_no_text.date.max()"
   ]
  },
  {
   "cell_type": "code",
   "execution_count": 65,
   "metadata": {},
   "outputs": [],
   "source": [
    "for year in range(2004, 2019):\n",
    "    idx = rest_reviews_no_text.date.str[:4] == str(year)\n",
    "    df_year = rest_reviews_no_text[idx]\n",
    "    df_year.to_csv('csv_by_year/%i.csv' % year)"
   ]
  },
  {
   "cell_type": "code",
   "execution_count": null,
   "metadata": {},
   "outputs": [],
   "source": []
  }
 ],
 "metadata": {
  "kernelspec": {
   "display_name": "Python 3",
   "language": "python",
   "name": "python3"
  },
  "language_info": {
   "codemirror_mode": {
    "name": "ipython",
    "version": 3
   },
   "file_extension": ".py",
   "mimetype": "text/x-python",
   "name": "python",
   "nbconvert_exporter": "python",
   "pygments_lexer": "ipython3",
   "version": "3.7.0"
  }
 },
 "nbformat": 4,
 "nbformat_minor": 2
}
