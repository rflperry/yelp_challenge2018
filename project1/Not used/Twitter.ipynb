{
 "cells": [
  {
   "cell_type": "code",
   "execution_count": 1,
   "metadata": {},
   "outputs": [
    {
     "name": "stdout",
     "output_type": "stream",
     "text": [
      "Requirement already satisfied: python-twitter in /Users/tnni/anaconda3/lib/python3.7/site-packages (3.5)\n",
      "Requirement already satisfied: requests-oauthlib in /Users/tnni/anaconda3/lib/python3.7/site-packages (from python-twitter) (1.0.0)\n",
      "Requirement already satisfied: future in /Users/tnni/anaconda3/lib/python3.7/site-packages (from python-twitter) (0.17.1)\n",
      "Requirement already satisfied: requests in /Users/tnni/anaconda3/lib/python3.7/site-packages (from python-twitter) (2.19.1)\n",
      "Requirement already satisfied: oauthlib>=0.6.2 in /Users/tnni/anaconda3/lib/python3.7/site-packages (from requests-oauthlib->python-twitter) (2.1.0)\n",
      "Requirement already satisfied: idna<2.8,>=2.5 in /Users/tnni/anaconda3/lib/python3.7/site-packages (from requests->python-twitter) (2.7)\n",
      "Requirement already satisfied: chardet<3.1.0,>=3.0.2 in /Users/tnni/anaconda3/lib/python3.7/site-packages (from requests->python-twitter) (3.0.4)\n",
      "Requirement already satisfied: urllib3<1.24,>=1.21.1 in /Users/tnni/anaconda3/lib/python3.7/site-packages (from requests->python-twitter) (1.23)\n",
      "Requirement already satisfied: certifi>=2017.4.17 in /Users/tnni/anaconda3/lib/python3.7/site-packages (from requests->python-twitter) (2018.8.24)\n"
     ]
    }
   ],
   "source": [
    "!pip install python-twitter"
   ]
  },
  {
   "cell_type": "code",
   "execution_count": 3,
   "metadata": {},
   "outputs": [],
   "source": [
    "import twitter"
   ]
  },
  {
   "cell_type": "code",
   "execution_count": 4,
   "metadata": {},
   "outputs": [],
   "source": [
    "key = 'BM9stMVWpf5K1DET1ej95yAze'\n",
    "key_secret = 'NRwpZSnKcbfwcsgutGAS04KXDoaFXkWW2HHjBwFtWbY1UKNqcH'\n",
    "access_token = '1055016384906887169-r8mTHO5aoAFlYb7cicqfEpqAhPrIfl'\n",
    "access_token_secret = 'z8hPh0RsecmugtfrvV5sVH7asctGB7GhlAOCylUaCnm6N'"
   ]
  },
  {
   "cell_type": "code",
   "execution_count": 6,
   "metadata": {},
   "outputs": [],
   "source": [
    "api = twitter.Api(consumer_key=key,\n",
    "                      consumer_secret=key_secret,\n",
    "                      access_token_key=access_token,\n",
    "                      access_token_secret=access_token_secret\n",
    "                 )"
   ]
  },
  {
   "cell_type": "code",
   "execution_count": 9,
   "metadata": {},
   "outputs": [],
   "source": [
    "results = api.GetSearch(\n",
    "    raw_query=\"q=twitter%20&result_type=recent&since=2014-07-19&count=1000\")"
   ]
  },
  {
   "cell_type": "code",
   "execution_count": 10,
   "metadata": {},
   "outputs": [
    {
     "data": {
      "text/plain": [
       "96"
      ]
     },
     "execution_count": 10,
     "metadata": {},
     "output_type": "execute_result"
    }
   ],
   "source": [
    "len(results)"
   ]
  },
  {
   "cell_type": "code",
   "execution_count": 22,
   "metadata": {},
   "outputs": [],
   "source": [
    "results = api.GetSearch(term='pizzagate', )"
   ]
  },
  {
   "cell_type": "code",
   "execution_count": 23,
   "metadata": {},
   "outputs": [
    {
     "data": {
      "text/plain": [
       "100"
      ]
     },
     "execution_count": 23,
     "metadata": {},
     "output_type": "execute_result"
    }
   ],
   "source": [
    "len(results)"
   ]
  },
  {
   "cell_type": "code",
   "execution_count": 24,
   "metadata": {},
   "outputs": [
    {
     "data": {
      "text/plain": [
       "Status(ID=1062782616632467456, ScreenName=VicBergerIV, Created=Wed Nov 14 19:01:36 +0000 2018, Text='The self-described Nazi who was planning a massacre worked for @JackPosobiec &amp; says Jack was sympathetic to Nazis.… https://t.co/xLALlQNG8B')"
      ]
     },
     "execution_count": 24,
     "metadata": {},
     "output_type": "execute_result"
    }
   ],
   "source": [
    "results[0]"
   ]
  },
  {
   "cell_type": "code",
   "execution_count": null,
   "metadata": {},
   "outputs": [],
   "source": []
  },
  {
   "cell_type": "code",
   "execution_count": null,
   "metadata": {},
   "outputs": [],
   "source": []
  }
 ],
 "metadata": {
  "kernelspec": {
   "display_name": "Python 3",
   "language": "python",
   "name": "python3"
  },
  "language_info": {
   "codemirror_mode": {
    "name": "ipython",
    "version": 3
   },
   "file_extension": ".py",
   "mimetype": "text/x-python",
   "name": "python",
   "nbconvert_exporter": "python",
   "pygments_lexer": "ipython3",
   "version": "3.7.0"
  }
 },
 "nbformat": 4,
 "nbformat_minor": 2
}
