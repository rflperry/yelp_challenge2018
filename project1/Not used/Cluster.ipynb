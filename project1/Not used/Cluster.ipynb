{
 "cells": [
  {
   "cell_type": "code",
   "execution_count": 1,
   "metadata": {},
   "outputs": [],
   "source": [
    "import networkx as nx\n",
    "import matplotlib.pyplot as plt\n",
    "import numpy as np\n",
    "from networkx.algorithms import bipartite\n",
    "import pandas as pd"
   ]
  },
  {
   "cell_type": "code",
   "execution_count": 15,
   "metadata": {},
   "outputs": [],
   "source": [
    "USER = 'user'\n",
    "BIZ = 'biz'\n",
    "\n",
    "def degree(g, nodes=None, as_list=True):\n",
    "    deg = None\n",
    "    if nodes:\n",
    "        deg = dict(g.degree(nodes))\n",
    "    else:\n",
    "        deg = dict(g.degree())\n",
    "    \n",
    "    if as_list:\n",
    "        return list(deg.values())\n",
    "    return deg\n",
    "\n",
    "def degree_plot(g, nodes, title=''):\n",
    "    deg = degree(g, nodes)\n",
    "    bins = 100\n",
    "    if len(nodes) < 100:\n",
    "        bins = len(nodes)\n",
    "    hist = np.histogram(deg, bins=bins)\n",
    "    v = range(min(deg), max(deg)+1)\n",
    "    freqs, edges = hist[0], hist[1]\n",
    "    n = freqs.size\n",
    "    means = [(edges[i] + edges[i+1]) / 2 for i in range(n)]\n",
    "    \n",
    "    # SCATTER PLOT\n",
    "    plt.plot(means, freqs, \".\")\n",
    "    plt.xlabel(\"k\")\n",
    "    plt.ylabel(\"frequency\")\n",
    "    plt.title(\"Degree distribution for %s\" % title)\n",
    "    plt.show()\n",
    "    \n",
    "    # LOG LOG PLOT\n",
    "    plt.loglog(means, freqs, \".\")\n",
    "    plt.xlabel(\"log(k)\")\n",
    "    plt.ylabel(\"log(frequency)\")\n",
    "    plt.title(\"Log-log degree distribution for %s\" % title)\n",
    "    plt.show()"
   ]
  },
  {
   "cell_type": "code",
   "execution_count": 16,
   "metadata": {},
   "outputs": [
    {
     "data": {
      "text/html": [
       "<div>\n",
       "<style scoped>\n",
       "    .dataframe tbody tr th:only-of-type {\n",
       "        vertical-align: middle;\n",
       "    }\n",
       "\n",
       "    .dataframe tbody tr th {\n",
       "        vertical-align: top;\n",
       "    }\n",
       "\n",
       "    .dataframe thead th {\n",
       "        text-align: right;\n",
       "    }\n",
       "</style>\n",
       "<table border=\"1\" class=\"dataframe\">\n",
       "  <thead>\n",
       "    <tr style=\"text-align: right;\">\n",
       "      <th></th>\n",
       "      <th>business_id</th>\n",
       "      <th>date</th>\n",
       "      <th>review_id</th>\n",
       "      <th>stars</th>\n",
       "      <th>user_id</th>\n",
       "    </tr>\n",
       "  </thead>\n",
       "  <tbody>\n",
       "    <tr>\n",
       "      <th>0</th>\n",
       "      <td>f5O7v_X_jCg2itqacRfxhg</td>\n",
       "      <td>2017-10-12</td>\n",
       "      <td>kS4hrhEScwB9V5JATYjvVQ</td>\n",
       "      <td>5</td>\n",
       "      <td>hxqo4NyJFfeOmuoVi--s1A</td>\n",
       "    </tr>\n",
       "    <tr>\n",
       "      <th>1</th>\n",
       "      <td>0bjFYstj8USMzEV4ZQldjA</td>\n",
       "      <td>2017-01-19</td>\n",
       "      <td>VKGvSe0SmYcFc5PqjbxLDQ</td>\n",
       "      <td>5</td>\n",
       "      <td>eG6HneK9zLcuZpVuKcsCGQ</td>\n",
       "    </tr>\n",
       "    <tr>\n",
       "      <th>2</th>\n",
       "      <td>gZGsReG0VeX4uKViHTB9EQ</td>\n",
       "      <td>2017-08-16</td>\n",
       "      <td>51RHs_V_fjuistnuKxNpEg</td>\n",
       "      <td>5</td>\n",
       "      <td>5ngpW5tf3ep680eG1HxHzA</td>\n",
       "    </tr>\n",
       "    <tr>\n",
       "      <th>3</th>\n",
       "      <td>-bd4BQcl1ekgo7avaFngIw</td>\n",
       "      <td>2017-06-28</td>\n",
       "      <td>P7kiSTiwzqm0_LbA71EOPg</td>\n",
       "      <td>5</td>\n",
       "      <td>5ngpW5tf3ep680eG1HxHzA</td>\n",
       "    </tr>\n",
       "    <tr>\n",
       "      <th>4</th>\n",
       "      <td>u73j2VQ3TGWdMO-AG7MABw</td>\n",
       "      <td>2017-07-06</td>\n",
       "      <td>7EgEjUpcb8q-B5dPCMvkaQ</td>\n",
       "      <td>2</td>\n",
       "      <td>5ngpW5tf3ep680eG1HxHzA</td>\n",
       "    </tr>\n",
       "  </tbody>\n",
       "</table>\n",
       "</div>"
      ],
      "text/plain": [
       "              business_id        date               review_id  stars  \\\n",
       "0  f5O7v_X_jCg2itqacRfxhg  2017-10-12  kS4hrhEScwB9V5JATYjvVQ      5   \n",
       "1  0bjFYstj8USMzEV4ZQldjA  2017-01-19  VKGvSe0SmYcFc5PqjbxLDQ      5   \n",
       "2  gZGsReG0VeX4uKViHTB9EQ  2017-08-16  51RHs_V_fjuistnuKxNpEg      5   \n",
       "3  -bd4BQcl1ekgo7avaFngIw  2017-06-28  P7kiSTiwzqm0_LbA71EOPg      5   \n",
       "4  u73j2VQ3TGWdMO-AG7MABw  2017-07-06  7EgEjUpcb8q-B5dPCMvkaQ      2   \n",
       "\n",
       "                  user_id  \n",
       "0  hxqo4NyJFfeOmuoVi--s1A  \n",
       "1  eG6HneK9zLcuZpVuKcsCGQ  \n",
       "2  5ngpW5tf3ep680eG1HxHzA  \n",
       "3  5ngpW5tf3ep680eG1HxHzA  \n",
       "4  5ngpW5tf3ep680eG1HxHzA  "
      ]
     },
     "execution_count": 16,
     "metadata": {},
     "output_type": "execute_result"
    }
   ],
   "source": [
    "df_biz = pd.read_csv('cleaned_csv/restaurants.csv')\n",
    "df = pd.read_csv('csv_by_year/2017.csv')\n",
    "df = df.drop('Unnamed: 0', axis=1)\n",
    "df.head()"
   ]
  },
  {
   "cell_type": "code",
   "execution_count": 17,
   "metadata": {},
   "outputs": [
    {
     "data": {
      "text/html": [
       "<div>\n",
       "<style scoped>\n",
       "    .dataframe tbody tr th:only-of-type {\n",
       "        vertical-align: middle;\n",
       "    }\n",
       "\n",
       "    .dataframe tbody tr th {\n",
       "        vertical-align: top;\n",
       "    }\n",
       "\n",
       "    .dataframe thead th {\n",
       "        text-align: right;\n",
       "    }\n",
       "</style>\n",
       "<table border=\"1\" class=\"dataframe\">\n",
       "  <thead>\n",
       "    <tr style=\"text-align: right;\">\n",
       "      <th></th>\n",
       "      <th>business_id</th>\n",
       "      <th>city</th>\n",
       "      <th>latitude</th>\n",
       "      <th>longitude</th>\n",
       "      <th>name</th>\n",
       "      <th>postal_code</th>\n",
       "      <th>review_count</th>\n",
       "      <th>stars</th>\n",
       "      <th>state</th>\n",
       "    </tr>\n",
       "  </thead>\n",
       "  <tbody>\n",
       "    <tr>\n",
       "      <th>0</th>\n",
       "      <td>Apn5Q_b6Nz61Tq4XzPdf9A</td>\n",
       "      <td>Calgary</td>\n",
       "      <td>51.091813</td>\n",
       "      <td>-114.031675</td>\n",
       "      <td>Minhas Micro Brewery</td>\n",
       "      <td>T2E 6L6</td>\n",
       "      <td>24</td>\n",
       "      <td>4.0</td>\n",
       "      <td>AB</td>\n",
       "    </tr>\n",
       "    <tr>\n",
       "      <th>1</th>\n",
       "      <td>AjEbIBw6ZFfln7ePHha9PA</td>\n",
       "      <td>Henderson</td>\n",
       "      <td>35.960734</td>\n",
       "      <td>-114.939821</td>\n",
       "      <td>CK'S BBQ &amp; Catering</td>\n",
       "      <td>89002</td>\n",
       "      <td>3</td>\n",
       "      <td>4.5</td>\n",
       "      <td>NV</td>\n",
       "    </tr>\n",
       "    <tr>\n",
       "      <th>2</th>\n",
       "      <td>O8S5hYJ1SMc8fA4QBtVujA</td>\n",
       "      <td>Montréal</td>\n",
       "      <td>45.540503</td>\n",
       "      <td>-73.599300</td>\n",
       "      <td>La Bastringue</td>\n",
       "      <td>H2G 1K7</td>\n",
       "      <td>5</td>\n",
       "      <td>4.0</td>\n",
       "      <td>QC</td>\n",
       "    </tr>\n",
       "    <tr>\n",
       "      <th>3</th>\n",
       "      <td>45bWSZtniwPRiqlivpS8Og</td>\n",
       "      <td>Phoenix</td>\n",
       "      <td>33.671375</td>\n",
       "      <td>-112.030017</td>\n",
       "      <td>The Coffee Bean &amp; Tea Leaf</td>\n",
       "      <td>85024</td>\n",
       "      <td>63</td>\n",
       "      <td>4.0</td>\n",
       "      <td>AZ</td>\n",
       "    </tr>\n",
       "    <tr>\n",
       "      <th>4</th>\n",
       "      <td>9A2quhZLyWk0akUetBd8hQ</td>\n",
       "      <td>Toronto</td>\n",
       "      <td>43.664378</td>\n",
       "      <td>-79.414424</td>\n",
       "      <td>Bnc Cake House</td>\n",
       "      <td>M6G 1K8</td>\n",
       "      <td>7</td>\n",
       "      <td>4.0</td>\n",
       "      <td>ON</td>\n",
       "    </tr>\n",
       "  </tbody>\n",
       "</table>\n",
       "</div>"
      ],
      "text/plain": [
       "              business_id       city   latitude   longitude  \\\n",
       "0  Apn5Q_b6Nz61Tq4XzPdf9A    Calgary  51.091813 -114.031675   \n",
       "1  AjEbIBw6ZFfln7ePHha9PA  Henderson  35.960734 -114.939821   \n",
       "2  O8S5hYJ1SMc8fA4QBtVujA   Montréal  45.540503  -73.599300   \n",
       "3  45bWSZtniwPRiqlivpS8Og    Phoenix  33.671375 -112.030017   \n",
       "4  9A2quhZLyWk0akUetBd8hQ    Toronto  43.664378  -79.414424   \n",
       "\n",
       "                         name postal_code  review_count  stars state  \n",
       "0        Minhas Micro Brewery     T2E 6L6            24    4.0    AB  \n",
       "1         CK'S BBQ & Catering       89002             3    4.5    NV  \n",
       "2               La Bastringue     H2G 1K7             5    4.0    QC  \n",
       "3  The Coffee Bean & Tea Leaf       85024            63    4.0    AZ  \n",
       "4              Bnc Cake House     M6G 1K8             7    4.0    ON  "
      ]
     },
     "execution_count": 17,
     "metadata": {},
     "output_type": "execute_result"
    }
   ],
   "source": [
    "df_biz = df_biz.drop(['Unnamed: 0', 'is_open', 'hours'], axis=1)\n",
    "df_biz.head()"
   ]
  },
  {
   "cell_type": "code",
   "execution_count": 18,
   "metadata": {},
   "outputs": [
    {
     "data": {
      "text/plain": [
       "72665"
      ]
     },
     "execution_count": 18,
     "metadata": {},
     "output_type": "execute_result"
    }
   ],
   "source": [
    "len(df_biz)"
   ]
  },
  {
   "cell_type": "code",
   "execution_count": 21,
   "metadata": {},
   "outputs": [
    {
     "data": {
      "text/plain": [
       "11774"
      ]
     },
     "execution_count": 21,
     "metadata": {},
     "output_type": "execute_result"
    }
   ],
   "source": [
    "len(set(df_biz.postal_code))"
   ]
  },
  {
   "cell_type": "code",
   "execution_count": null,
   "metadata": {},
   "outputs": [],
   "source": []
  },
  {
   "cell_type": "code",
   "execution_count": null,
   "metadata": {},
   "outputs": [],
   "source": [
    "graph = nx.Graph()\n",
    "for b in df_biz.itertuples():\n",
    "    i = row.business_id\n",
    "    p = row.postal_code\n",
    "    graph.add_nodes(i)\n",
    "    for b2 in df_biz.itertuples():\n",
    "        \n",
    "        graph.add_edge()"
   ]
  }
 ],
 "metadata": {
  "kernelspec": {
   "display_name": "Python 3",
   "language": "python",
   "name": "python3"
  },
  "language_info": {
   "codemirror_mode": {
    "name": "ipython",
    "version": 3
   },
   "file_extension": ".py",
   "mimetype": "text/x-python",
   "name": "python",
   "nbconvert_exporter": "python",
   "pygments_lexer": "ipython3",
   "version": "3.7.0"
  }
 },
 "nbformat": 4,
 "nbformat_minor": 2
}
