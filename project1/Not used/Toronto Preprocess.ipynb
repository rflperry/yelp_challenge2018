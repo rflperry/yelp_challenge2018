{
 "cells": [
  {
   "cell_type": "code",
   "execution_count": 1,
   "metadata": {},
   "outputs": [],
   "source": [
    "import pandas as pd"
   ]
  },
  {
   "cell_type": "markdown",
   "metadata": {},
   "source": [
    "## Get all restaurants in Toronto (CA)"
   ]
  },
  {
   "cell_type": "code",
   "execution_count": 13,
   "metadata": {},
   "outputs": [],
   "source": [
    "biz = pd.read_csv('cleaned_csv/restaurants.csv').drop(['is_open', 'hours', 'Unnamed: 0'], axis=1)"
   ]
  },
  {
   "cell_type": "code",
   "execution_count": 15,
   "metadata": {},
   "outputs": [
    {
     "data": {
      "text/html": [
       "<div>\n",
       "<style scoped>\n",
       "    .dataframe tbody tr th:only-of-type {\n",
       "        vertical-align: middle;\n",
       "    }\n",
       "\n",
       "    .dataframe tbody tr th {\n",
       "        vertical-align: top;\n",
       "    }\n",
       "\n",
       "    .dataframe thead th {\n",
       "        text-align: right;\n",
       "    }\n",
       "</style>\n",
       "<table border=\"1\" class=\"dataframe\">\n",
       "  <thead>\n",
       "    <tr style=\"text-align: right;\">\n",
       "      <th></th>\n",
       "      <th>business_id</th>\n",
       "      <th>city</th>\n",
       "      <th>latitude</th>\n",
       "      <th>longitude</th>\n",
       "      <th>name</th>\n",
       "      <th>postal_code</th>\n",
       "      <th>review_count</th>\n",
       "      <th>stars</th>\n",
       "      <th>state</th>\n",
       "    </tr>\n",
       "  </thead>\n",
       "  <tbody>\n",
       "    <tr>\n",
       "      <th>0</th>\n",
       "      <td>Apn5Q_b6Nz61Tq4XzPdf9A</td>\n",
       "      <td>calgary</td>\n",
       "      <td>51.091813</td>\n",
       "      <td>-114.031675</td>\n",
       "      <td>Minhas Micro Brewery</td>\n",
       "      <td>T2E 6L6</td>\n",
       "      <td>24</td>\n",
       "      <td>4.0</td>\n",
       "      <td>AB</td>\n",
       "    </tr>\n",
       "    <tr>\n",
       "      <th>1</th>\n",
       "      <td>AjEbIBw6ZFfln7ePHha9PA</td>\n",
       "      <td>henderson</td>\n",
       "      <td>35.960734</td>\n",
       "      <td>-114.939821</td>\n",
       "      <td>CK'S BBQ &amp; Catering</td>\n",
       "      <td>89002</td>\n",
       "      <td>3</td>\n",
       "      <td>4.5</td>\n",
       "      <td>NV</td>\n",
       "    </tr>\n",
       "    <tr>\n",
       "      <th>2</th>\n",
       "      <td>O8S5hYJ1SMc8fA4QBtVujA</td>\n",
       "      <td>montréal</td>\n",
       "      <td>45.540503</td>\n",
       "      <td>-73.599300</td>\n",
       "      <td>La Bastringue</td>\n",
       "      <td>H2G 1K7</td>\n",
       "      <td>5</td>\n",
       "      <td>4.0</td>\n",
       "      <td>QC</td>\n",
       "    </tr>\n",
       "    <tr>\n",
       "      <th>3</th>\n",
       "      <td>45bWSZtniwPRiqlivpS8Og</td>\n",
       "      <td>phoenix</td>\n",
       "      <td>33.671375</td>\n",
       "      <td>-112.030017</td>\n",
       "      <td>The Coffee Bean &amp; Tea Leaf</td>\n",
       "      <td>85024</td>\n",
       "      <td>63</td>\n",
       "      <td>4.0</td>\n",
       "      <td>AZ</td>\n",
       "    </tr>\n",
       "    <tr>\n",
       "      <th>4</th>\n",
       "      <td>9A2quhZLyWk0akUetBd8hQ</td>\n",
       "      <td>toronto</td>\n",
       "      <td>43.664378</td>\n",
       "      <td>-79.414424</td>\n",
       "      <td>Bnc Cake House</td>\n",
       "      <td>M6G 1K8</td>\n",
       "      <td>7</td>\n",
       "      <td>4.0</td>\n",
       "      <td>ON</td>\n",
       "    </tr>\n",
       "  </tbody>\n",
       "</table>\n",
       "</div>"
      ],
      "text/plain": [
       "              business_id       city   latitude   longitude  \\\n",
       "0  Apn5Q_b6Nz61Tq4XzPdf9A    calgary  51.091813 -114.031675   \n",
       "1  AjEbIBw6ZFfln7ePHha9PA  henderson  35.960734 -114.939821   \n",
       "2  O8S5hYJ1SMc8fA4QBtVujA   montréal  45.540503  -73.599300   \n",
       "3  45bWSZtniwPRiqlivpS8Og    phoenix  33.671375 -112.030017   \n",
       "4  9A2quhZLyWk0akUetBd8hQ    toronto  43.664378  -79.414424   \n",
       "\n",
       "                         name postal_code  review_count  stars state  \n",
       "0        Minhas Micro Brewery     T2E 6L6            24    4.0    AB  \n",
       "1         CK'S BBQ & Catering       89002             3    4.5    NV  \n",
       "2               La Bastringue     H2G 1K7             5    4.0    QC  \n",
       "3  The Coffee Bean & Tea Leaf       85024            63    4.0    AZ  \n",
       "4              Bnc Cake House     M6G 1K8             7    4.0    ON  "
      ]
     },
     "execution_count": 15,
     "metadata": {},
     "output_type": "execute_result"
    }
   ],
   "source": [
    "biz.city = biz.city.str.lower()\n",
    "biz.head()"
   ]
  },
  {
   "cell_type": "code",
   "execution_count": null,
   "metadata": {},
   "outputs": [],
   "source": [
    "biz.city = biz.city.str.lower()\n",
    "biz_toronto = biz[biz.city == 'toronto']"
   ]
  },
  {
   "cell_type": "code",
   "execution_count": 22,
   "metadata": {},
   "outputs": [
    {
     "name": "stdout",
     "output_type": "stream",
     "text": [
      "Rstaurants in Toronto:  9678\n"
     ]
    }
   ],
   "source": [
    "biz_toronto = biz[biz.city == 'toronto']\n",
    "print(\"Rstaurants in Toronto: \", biz_toronto.shape[0])"
   ]
  },
  {
   "cell_type": "code",
   "execution_count": 18,
   "metadata": {},
   "outputs": [],
   "source": [
    "biz_toronto.to_csv('toronto/restaurants_toronto.csv', index=False)"
   ]
  },
  {
   "cell_type": "markdown",
   "metadata": {},
   "source": [
    "## Get all reviews from Toronto"
   ]
  },
  {
   "cell_type": "code",
   "execution_count": 2,
   "metadata": {},
   "outputs": [],
   "source": [
    "for k in range(20):\n",
    "    chunk_size = 100 * 1000\n",
    "    cleanup(k, chunk_size)\n",
    "    print('Iteration', k, 'done')"
   ]
  },
  {
   "cell_type": "code",
   "execution_count": 3,
   "metadata": {},
   "outputs": [],
   "source": [
    "DF = pd.concat(df_list)"
   ]
  },
  {
   "cell_type": "code",
   "execution_count": 5,
   "metadata": {},
   "outputs": [
    {
     "data": {
      "text/plain": [
       "5996996"
      ]
     },
     "execution_count": 5,
     "metadata": {},
     "output_type": "execute_result"
    }
   ],
   "source": [
    "len(DF)"
   ]
  },
  {
   "cell_type": "code",
   "execution_count": 19,
   "metadata": {},
   "outputs": [],
   "source": [
    "toronto_reviews = DF[DF.business_id.isin(biz_toronto.business_id)]"
   ]
  },
  {
   "cell_type": "code",
   "execution_count": 23,
   "metadata": {},
   "outputs": [
    {
     "name": "stdout",
     "output_type": "stream",
     "text": [
      "Reviews from Toronto:  379875\n"
     ]
    }
   ],
   "source": [
    "print(\"Reviews from Toronto: \", toronto_reviews.shape[0])"
   ]
  },
  {
   "cell_type": "code",
   "execution_count": 9,
   "metadata": {},
   "outputs": [
    {
     "data": {
      "text/html": [
       "<div>\n",
       "<style scoped>\n",
       "    .dataframe tbody tr th:only-of-type {\n",
       "        vertical-align: middle;\n",
       "    }\n",
       "\n",
       "    .dataframe tbody tr th {\n",
       "        vertical-align: top;\n",
       "    }\n",
       "\n",
       "    .dataframe thead th {\n",
       "        text-align: right;\n",
       "    }\n",
       "</style>\n",
       "<table border=\"1\" class=\"dataframe\">\n",
       "  <thead>\n",
       "    <tr style=\"text-align: right;\">\n",
       "      <th></th>\n",
       "      <th>business_id</th>\n",
       "      <th>cool</th>\n",
       "      <th>date</th>\n",
       "      <th>funny</th>\n",
       "      <th>review_id</th>\n",
       "      <th>stars</th>\n",
       "      <th>text</th>\n",
       "      <th>useful</th>\n",
       "      <th>user_id</th>\n",
       "    </tr>\n",
       "  </thead>\n",
       "  <tbody>\n",
       "    <tr>\n",
       "      <th>134</th>\n",
       "      <td>sscP36MO34i5ep4QO8c7KA</td>\n",
       "      <td>1</td>\n",
       "      <td>2012-01-28</td>\n",
       "      <td>0</td>\n",
       "      <td>dp6rinVjRXYaAABTU6BYsA</td>\n",
       "      <td>3</td>\n",
       "      <td>Sometimes I ride the 501 streetcar just for so...</td>\n",
       "      <td>1</td>\n",
       "      <td>YHWsLBS8jzZiPjKHMFOaAA</td>\n",
       "    </tr>\n",
       "    <tr>\n",
       "      <th>139</th>\n",
       "      <td>BmgfYQ3tpRKnT9H9WvjL_g</td>\n",
       "      <td>2</td>\n",
       "      <td>2011-02-23</td>\n",
       "      <td>1</td>\n",
       "      <td>BqMTHIJ_S5aT3Mt1fWT_pg</td>\n",
       "      <td>3</td>\n",
       "      <td>As I'm writing this, I already know a lot of p...</td>\n",
       "      <td>7</td>\n",
       "      <td>YHWsLBS8jzZiPjKHMFOaAA</td>\n",
       "    </tr>\n",
       "    <tr>\n",
       "      <th>156</th>\n",
       "      <td>HX0QhTVWztcawNof0KUhgQ</td>\n",
       "      <td>3</td>\n",
       "      <td>2011-04-17</td>\n",
       "      <td>1</td>\n",
       "      <td>kUgUo3SfZDj_XwAECQtkjQ</td>\n",
       "      <td>3</td>\n",
       "      <td>Despite it's seemingly religious name, this Bl...</td>\n",
       "      <td>5</td>\n",
       "      <td>YHWsLBS8jzZiPjKHMFOaAA</td>\n",
       "    </tr>\n",
       "    <tr>\n",
       "      <th>324</th>\n",
       "      <td>WYG7xp_UO12qf5_qRLBQHw</td>\n",
       "      <td>1</td>\n",
       "      <td>2010-10-24</td>\n",
       "      <td>1</td>\n",
       "      <td>xjUv6EeU_6wRbfmoW_oxoA</td>\n",
       "      <td>3</td>\n",
       "      <td>Since this place is one of the Indie Coffee Pa...</td>\n",
       "      <td>1</td>\n",
       "      <td>YgavGxfAdjhkkbwlAY_9ZQ</td>\n",
       "    </tr>\n",
       "    <tr>\n",
       "      <th>327</th>\n",
       "      <td>nhfZW6Pi-oLQuhYcrcZJWw</td>\n",
       "      <td>4</td>\n",
       "      <td>2010-10-05</td>\n",
       "      <td>0</td>\n",
       "      <td>sQlDlTNl8qSciIUQOzFdUw</td>\n",
       "      <td>5</td>\n",
       "      <td>I ordered a soy latte and it was PERFECT. Just...</td>\n",
       "      <td>2</td>\n",
       "      <td>YgavGxfAdjhkkbwlAY_9ZQ</td>\n",
       "    </tr>\n",
       "  </tbody>\n",
       "</table>\n",
       "</div>"
      ],
      "text/plain": [
       "                business_id  cool        date  funny               review_id  \\\n",
       "134  sscP36MO34i5ep4QO8c7KA     1  2012-01-28      0  dp6rinVjRXYaAABTU6BYsA   \n",
       "139  BmgfYQ3tpRKnT9H9WvjL_g     2  2011-02-23      1  BqMTHIJ_S5aT3Mt1fWT_pg   \n",
       "156  HX0QhTVWztcawNof0KUhgQ     3  2011-04-17      1  kUgUo3SfZDj_XwAECQtkjQ   \n",
       "324  WYG7xp_UO12qf5_qRLBQHw     1  2010-10-24      1  xjUv6EeU_6wRbfmoW_oxoA   \n",
       "327  nhfZW6Pi-oLQuhYcrcZJWw     4  2010-10-05      0  sQlDlTNl8qSciIUQOzFdUw   \n",
       "\n",
       "     stars                                               text  useful  \\\n",
       "134      3  Sometimes I ride the 501 streetcar just for so...       1   \n",
       "139      3  As I'm writing this, I already know a lot of p...       7   \n",
       "156      3  Despite it's seemingly religious name, this Bl...       5   \n",
       "324      3  Since this place is one of the Indie Coffee Pa...       1   \n",
       "327      5  I ordered a soy latte and it was PERFECT. Just...       2   \n",
       "\n",
       "                    user_id  \n",
       "134  YHWsLBS8jzZiPjKHMFOaAA  \n",
       "139  YHWsLBS8jzZiPjKHMFOaAA  \n",
       "156  YHWsLBS8jzZiPjKHMFOaAA  \n",
       "324  YgavGxfAdjhkkbwlAY_9ZQ  \n",
       "327  YgavGxfAdjhkkbwlAY_9ZQ  "
      ]
     },
     "execution_count": 9,
     "metadata": {},
     "output_type": "execute_result"
    }
   ],
   "source": [
    "toronto_reviews.head()"
   ]
  },
  {
   "cell_type": "code",
   "execution_count": 25,
   "metadata": {},
   "outputs": [
    {
     "data": {
      "text/plain": [
       "'2008-01-03'"
      ]
     },
     "execution_count": 25,
     "metadata": {},
     "output_type": "execute_result"
    }
   ],
   "source": [
    "min(toronto_reviews.date)"
   ]
  },
  {
   "cell_type": "code",
   "execution_count": 24,
   "metadata": {},
   "outputs": [],
   "source": [
    "toronto_reviews.to_csv('toronto/reviews_all_time.csv', index=False)"
   ]
  },
  {
   "cell_type": "markdown",
   "metadata": {},
   "source": [
    "## Get all users contributing to the Toronto reviews"
   ]
  },
  {
   "cell_type": "code",
   "execution_count": 26,
   "metadata": {},
   "outputs": [],
   "source": [
    "N = 16\n",
    "df_matrix = [None] * N\n",
    "for i in range(N):\n",
    "    path = \"cleaned/user%i.json\" % i\n",
    "    df_matrix[i] = pd.DataFrame(list(pd.read_json(path).data))"
   ]
  },
  {
   "cell_type": "code",
   "execution_count": 27,
   "metadata": {},
   "outputs": [],
   "source": [
    "ALL_USERS = pd.concat(df_matrix)"
   ]
  },
  {
   "cell_type": "code",
   "execution_count": 28,
   "metadata": {},
   "outputs": [],
   "source": [
    "toronto_users = ALL_USERS[ALL_USERS.user_id.isin(toronto_reviews.user_id)]"
   ]
  },
  {
   "cell_type": "code",
   "execution_count": 29,
   "metadata": {},
   "outputs": [],
   "source": [
    "toronto_users.to_csv('toronto/toronto_users.csv', index=False)"
   ]
  },
  {
   "cell_type": "code",
   "execution_count": 37,
   "metadata": {},
   "outputs": [],
   "source": [
    "toronto_reviews.iloc[:95000].to_csv('toronto/toronto_reviews_1.csv')\n",
    "toronto_reviews.iloc[95000:95000*2].to_csv('toronto/toronto_reviews_2.csv')\n",
    "toronto_reviews.iloc[95000*2:95000*3].to_csv('toronto/toronto_reviews_3.csv')\n",
    "toronto_reviews.iloc[95000*3:95000*4].to_csv('toronto/toronto_reviews_4.csv')"
   ]
  }
 ],
 "metadata": {
  "kernelspec": {
   "display_name": "Python 3",
   "language": "python",
   "name": "python3"
  },
  "language_info": {
   "codemirror_mode": {
    "name": "ipython",
    "version": 3
   },
   "file_extension": ".py",
   "mimetype": "text/x-python",
   "name": "python",
   "nbconvert_exporter": "python",
   "pygments_lexer": "ipython3",
   "version": "3.7.0"
  }
 },
 "nbformat": 4,
 "nbformat_minor": 2
}
