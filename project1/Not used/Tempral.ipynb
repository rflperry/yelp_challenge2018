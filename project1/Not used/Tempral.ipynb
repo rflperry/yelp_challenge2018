{
 "cells": [
  {
   "cell_type": "code",
   "execution_count": 1,
   "metadata": {},
   "outputs": [],
   "source": [
    "import pandas as pd"
   ]
  },
  {
   "cell_type": "code",
   "execution_count": 10,
   "metadata": {},
   "outputs": [],
   "source": [
    "def cleanup(k):\n",
    "    dirty_path = 'yelp_dataset/yelp_academic_dataset_review.json'\n",
    "    clean_path = \"cleaned/review%i.json\" % k\n",
    "    dirty_file = open(dirty_path, \"r\")\n",
    "    clean_file = open(clean_path, \"w\")\n",
    "    \n",
    "    start = 1000000 * k\n",
    "    end = 1000000 * (k+1)\n",
    "    \n",
    "    content = ''\n",
    "    i = 0\n",
    "    for line in dirty_file:\n",
    "        if i == end:\n",
    "            break\n",
    "        elif i >= start:\n",
    "            s = line.replace('\\n', ',\\n')\n",
    "            content += s\n",
    "        i += 1\n",
    "    payload = '{\"data\" : \\n[%s]}' % (content[:-2] + '\\n')\n",
    "    clean_file.write(payload)"
   ]
  },
  {
   "cell_type": "code",
   "execution_count": 9,
   "metadata": {},
   "outputs": [
    {
     "name": "stdout",
     "output_type": "stream",
     "text": [
      "break\n",
      "Iteration 0 done\n",
      "break\n",
      "Iteration 1 done\n",
      "break\n",
      "Iteration 2 done\n",
      "break\n",
      "Iteration 3 done\n",
      "break\n",
      "Iteration 4 done\n",
      "Iteration 5 done\n"
     ]
    }
   ],
   "source": [
    "for k in range(6):\n",
    "    cleanup(k)\n",
    "    print('Iteration', k, 'done')"
   ]
  },
  {
   "cell_type": "markdown",
   "metadata": {},
   "source": [
    "## Get all restaurants in Toronto (CA)"
   ]
  },
  {
   "cell_type": "code",
   "execution_count": 13,
   "metadata": {},
   "outputs": [],
   "source": [
    "biz = pd.read_csv('cleaned_csv/restaurants.csv').drop(['is_open', 'hours', 'Unnamed: 0'], axis=1)"
   ]
  },
  {
   "cell_type": "code",
   "execution_count": 15,
   "metadata": {},
   "outputs": [
    {
     "data": {
      "text/html": [
       "<div>\n",
       "<style scoped>\n",
       "    .dataframe tbody tr th:only-of-type {\n",
       "        vertical-align: middle;\n",
       "    }\n",
       "\n",
       "    .dataframe tbody tr th {\n",
       "        vertical-align: top;\n",
       "    }\n",
       "\n",
       "    .dataframe thead th {\n",
       "        text-align: right;\n",
       "    }\n",
       "</style>\n",
       "<table border=\"1\" class=\"dataframe\">\n",
       "  <thead>\n",
       "    <tr style=\"text-align: right;\">\n",
       "      <th></th>\n",
       "      <th>business_id</th>\n",
       "      <th>city</th>\n",
       "      <th>latitude</th>\n",
       "      <th>longitude</th>\n",
       "      <th>name</th>\n",
       "      <th>postal_code</th>\n",
       "      <th>review_count</th>\n",
       "      <th>stars</th>\n",
       "      <th>state</th>\n",
       "    </tr>\n",
       "  </thead>\n",
       "  <tbody>\n",
       "    <tr>\n",
       "      <th>0</th>\n",
       "      <td>Apn5Q_b6Nz61Tq4XzPdf9A</td>\n",
       "      <td>calgary</td>\n",
       "      <td>51.091813</td>\n",
       "      <td>-114.031675</td>\n",
       "      <td>Minhas Micro Brewery</td>\n",
       "      <td>T2E 6L6</td>\n",
       "      <td>24</td>\n",
       "      <td>4.0</td>\n",
       "      <td>AB</td>\n",
       "    </tr>\n",
       "    <tr>\n",
       "      <th>1</th>\n",
       "      <td>AjEbIBw6ZFfln7ePHha9PA</td>\n",
       "      <td>henderson</td>\n",
       "      <td>35.960734</td>\n",
       "      <td>-114.939821</td>\n",
       "      <td>CK'S BBQ &amp; Catering</td>\n",
       "      <td>89002</td>\n",
       "      <td>3</td>\n",
       "      <td>4.5</td>\n",
       "      <td>NV</td>\n",
       "    </tr>\n",
       "    <tr>\n",
       "      <th>2</th>\n",
       "      <td>O8S5hYJ1SMc8fA4QBtVujA</td>\n",
       "      <td>montréal</td>\n",
       "      <td>45.540503</td>\n",
       "      <td>-73.599300</td>\n",
       "      <td>La Bastringue</td>\n",
       "      <td>H2G 1K7</td>\n",
       "      <td>5</td>\n",
       "      <td>4.0</td>\n",
       "      <td>QC</td>\n",
       "    </tr>\n",
       "    <tr>\n",
       "      <th>3</th>\n",
       "      <td>45bWSZtniwPRiqlivpS8Og</td>\n",
       "      <td>phoenix</td>\n",
       "      <td>33.671375</td>\n",
       "      <td>-112.030017</td>\n",
       "      <td>The Coffee Bean &amp; Tea Leaf</td>\n",
       "      <td>85024</td>\n",
       "      <td>63</td>\n",
       "      <td>4.0</td>\n",
       "      <td>AZ</td>\n",
       "    </tr>\n",
       "    <tr>\n",
       "      <th>4</th>\n",
       "      <td>9A2quhZLyWk0akUetBd8hQ</td>\n",
       "      <td>toronto</td>\n",
       "      <td>43.664378</td>\n",
       "      <td>-79.414424</td>\n",
       "      <td>Bnc Cake House</td>\n",
       "      <td>M6G 1K8</td>\n",
       "      <td>7</td>\n",
       "      <td>4.0</td>\n",
       "      <td>ON</td>\n",
       "    </tr>\n",
       "  </tbody>\n",
       "</table>\n",
       "</div>"
      ],
      "text/plain": [
       "              business_id       city   latitude   longitude  \\\n",
       "0  Apn5Q_b6Nz61Tq4XzPdf9A    calgary  51.091813 -114.031675   \n",
       "1  AjEbIBw6ZFfln7ePHha9PA  henderson  35.960734 -114.939821   \n",
       "2  O8S5hYJ1SMc8fA4QBtVujA   montréal  45.540503  -73.599300   \n",
       "3  45bWSZtniwPRiqlivpS8Og    phoenix  33.671375 -112.030017   \n",
       "4  9A2quhZLyWk0akUetBd8hQ    toronto  43.664378  -79.414424   \n",
       "\n",
       "                         name postal_code  review_count  stars state  \n",
       "0        Minhas Micro Brewery     T2E 6L6            24    4.0    AB  \n",
       "1         CK'S BBQ & Catering       89002             3    4.5    NV  \n",
       "2               La Bastringue     H2G 1K7             5    4.0    QC  \n",
       "3  The Coffee Bean & Tea Leaf       85024            63    4.0    AZ  \n",
       "4              Bnc Cake House     M6G 1K8             7    4.0    ON  "
      ]
     },
     "execution_count": 15,
     "metadata": {},
     "output_type": "execute_result"
    }
   ],
   "source": [
    "biz.city = biz.city.str.lower()\n",
    "biz.head()"
   ]
  },
  {
   "cell_type": "code",
   "execution_count": 22,
   "metadata": {},
   "outputs": [
    {
     "name": "stdout",
     "output_type": "stream",
     "text": [
      "Rstaurants in Toronto:  9678\n"
     ]
    }
   ],
   "source": [
    "biz_toronto = biz[biz.city == 'toronto']\n",
    "print(\"Rstaurants in Toronto: \", biz_toronto.shape[0])"
   ]
  },
  {
   "cell_type": "code",
   "execution_count": 18,
   "metadata": {},
   "outputs": [],
   "source": [
    "biz_toronto.to_csv('toronto/restaurants_toronto.csv')"
   ]
  },
  {
   "cell_type": "markdown",
   "metadata": {},
   "source": [
    "## Get all reviews from Toronto"
   ]
  },
  {
   "cell_type": "code",
   "execution_count": 2,
   "metadata": {},
   "outputs": [],
   "source": [
    "n = 6\n",
    "df_list = [None] * n\n",
    "for i in range(n):\n",
    "    path = \"cleaned/review%i.json\" % i\n",
    "    df_list[i] = pd.DataFrame(list(pd.read_json(path).data))    "
   ]
  },
  {
   "cell_type": "code",
   "execution_count": 3,
   "metadata": {},
   "outputs": [],
   "source": [
    "DF = pd.concat(df_list)"
   ]
  },
  {
   "cell_type": "code",
   "execution_count": 5,
   "metadata": {},
   "outputs": [
    {
     "data": {
      "text/plain": [
       "5996996"
      ]
     },
     "execution_count": 5,
     "metadata": {},
     "output_type": "execute_result"
    }
   ],
   "source": [
    "len(DF)"
   ]
  },
  {
   "cell_type": "code",
   "execution_count": 19,
   "metadata": {},
   "outputs": [],
   "source": [
    "toronto_reviews = DF[DF.business_id.isin(biz_toronto.business_id)]"
   ]
  },
  {
   "cell_type": "code",
   "execution_count": 23,
   "metadata": {},
   "outputs": [
    {
     "name": "stdout",
     "output_type": "stream",
     "text": [
      "Reviews from Toronto:  379875\n"
     ]
    }
   ],
   "source": [
    "print(\"Reviews from Toronto: \", toronto_reviews.shape[0])"
   ]
  },
  {
   "cell_type": "code",
   "execution_count": 9,
   "metadata": {},
   "outputs": [
    {
     "data": {
      "text/html": [
       "<div>\n",
       "<style scoped>\n",
       "    .dataframe tbody tr th:only-of-type {\n",
       "        vertical-align: middle;\n",
       "    }\n",
       "\n",
       "    .dataframe tbody tr th {\n",
       "        vertical-align: top;\n",
       "    }\n",
       "\n",
       "    .dataframe thead th {\n",
       "        text-align: right;\n",
       "    }\n",
       "</style>\n",
       "<table border=\"1\" class=\"dataframe\">\n",
       "  <thead>\n",
       "    <tr style=\"text-align: right;\">\n",
       "      <th></th>\n",
       "      <th>business_id</th>\n",
       "      <th>cool</th>\n",
       "      <th>date</th>\n",
       "      <th>funny</th>\n",
       "      <th>review_id</th>\n",
       "      <th>stars</th>\n",
       "      <th>text</th>\n",
       "      <th>useful</th>\n",
       "      <th>user_id</th>\n",
       "    </tr>\n",
       "  </thead>\n",
       "  <tbody>\n",
       "    <tr>\n",
       "      <th>134</th>\n",
       "      <td>sscP36MO34i5ep4QO8c7KA</td>\n",
       "      <td>1</td>\n",
       "      <td>2012-01-28</td>\n",
       "      <td>0</td>\n",
       "      <td>dp6rinVjRXYaAABTU6BYsA</td>\n",
       "      <td>3</td>\n",
       "      <td>Sometimes I ride the 501 streetcar just for so...</td>\n",
       "      <td>1</td>\n",
       "      <td>YHWsLBS8jzZiPjKHMFOaAA</td>\n",
       "    </tr>\n",
       "    <tr>\n",
       "      <th>139</th>\n",
       "      <td>BmgfYQ3tpRKnT9H9WvjL_g</td>\n",
       "      <td>2</td>\n",
       "      <td>2011-02-23</td>\n",
       "      <td>1</td>\n",
       "      <td>BqMTHIJ_S5aT3Mt1fWT_pg</td>\n",
       "      <td>3</td>\n",
       "      <td>As I'm writing this, I already know a lot of p...</td>\n",
       "      <td>7</td>\n",
       "      <td>YHWsLBS8jzZiPjKHMFOaAA</td>\n",
       "    </tr>\n",
       "    <tr>\n",
       "      <th>156</th>\n",
       "      <td>HX0QhTVWztcawNof0KUhgQ</td>\n",
       "      <td>3</td>\n",
       "      <td>2011-04-17</td>\n",
       "      <td>1</td>\n",
       "      <td>kUgUo3SfZDj_XwAECQtkjQ</td>\n",
       "      <td>3</td>\n",
       "      <td>Despite it's seemingly religious name, this Bl...</td>\n",
       "      <td>5</td>\n",
       "      <td>YHWsLBS8jzZiPjKHMFOaAA</td>\n",
       "    </tr>\n",
       "    <tr>\n",
       "      <th>324</th>\n",
       "      <td>WYG7xp_UO12qf5_qRLBQHw</td>\n",
       "      <td>1</td>\n",
       "      <td>2010-10-24</td>\n",
       "      <td>1</td>\n",
       "      <td>xjUv6EeU_6wRbfmoW_oxoA</td>\n",
       "      <td>3</td>\n",
       "      <td>Since this place is one of the Indie Coffee Pa...</td>\n",
       "      <td>1</td>\n",
       "      <td>YgavGxfAdjhkkbwlAY_9ZQ</td>\n",
       "    </tr>\n",
       "    <tr>\n",
       "      <th>327</th>\n",
       "      <td>nhfZW6Pi-oLQuhYcrcZJWw</td>\n",
       "      <td>4</td>\n",
       "      <td>2010-10-05</td>\n",
       "      <td>0</td>\n",
       "      <td>sQlDlTNl8qSciIUQOzFdUw</td>\n",
       "      <td>5</td>\n",
       "      <td>I ordered a soy latte and it was PERFECT. Just...</td>\n",
       "      <td>2</td>\n",
       "      <td>YgavGxfAdjhkkbwlAY_9ZQ</td>\n",
       "    </tr>\n",
       "  </tbody>\n",
       "</table>\n",
       "</div>"
      ],
      "text/plain": [
       "                business_id  cool        date  funny               review_id  \\\n",
       "134  sscP36MO34i5ep4QO8c7KA     1  2012-01-28      0  dp6rinVjRXYaAABTU6BYsA   \n",
       "139  BmgfYQ3tpRKnT9H9WvjL_g     2  2011-02-23      1  BqMTHIJ_S5aT3Mt1fWT_pg   \n",
       "156  HX0QhTVWztcawNof0KUhgQ     3  2011-04-17      1  kUgUo3SfZDj_XwAECQtkjQ   \n",
       "324  WYG7xp_UO12qf5_qRLBQHw     1  2010-10-24      1  xjUv6EeU_6wRbfmoW_oxoA   \n",
       "327  nhfZW6Pi-oLQuhYcrcZJWw     4  2010-10-05      0  sQlDlTNl8qSciIUQOzFdUw   \n",
       "\n",
       "     stars                                               text  useful  \\\n",
       "134      3  Sometimes I ride the 501 streetcar just for so...       1   \n",
       "139      3  As I'm writing this, I already know a lot of p...       7   \n",
       "156      3  Despite it's seemingly religious name, this Bl...       5   \n",
       "324      3  Since this place is one of the Indie Coffee Pa...       1   \n",
       "327      5  I ordered a soy latte and it was PERFECT. Just...       2   \n",
       "\n",
       "                    user_id  \n",
       "134  YHWsLBS8jzZiPjKHMFOaAA  \n",
       "139  YHWsLBS8jzZiPjKHMFOaAA  \n",
       "156  YHWsLBS8jzZiPjKHMFOaAA  \n",
       "324  YgavGxfAdjhkkbwlAY_9ZQ  \n",
       "327  YgavGxfAdjhkkbwlAY_9ZQ  "
      ]
     },
     "execution_count": 9,
     "metadata": {},
     "output_type": "execute_result"
    }
   ],
   "source": [
    "toronto_reviews.head()"
   ]
  },
  {
   "cell_type": "code",
   "execution_count": 25,
   "metadata": {},
   "outputs": [
    {
     "data": {
      "text/plain": [
       "'2008-01-03'"
      ]
     },
     "execution_count": 25,
     "metadata": {},
     "output_type": "execute_result"
    }
   ],
   "source": [
    "min(toronto_reviews.date)"
   ]
  },
  {
   "cell_type": "code",
   "execution_count": 24,
   "metadata": {},
   "outputs": [],
   "source": [
    "toronto_reviews.to_csv('toronto/reviews_all_time.csv')"
   ]
  },
  {
   "cell_type": "markdown",
   "metadata": {},
   "source": [
    "## Get all users contributing to the Toronto reviews"
   ]
  },
  {
   "cell_type": "code",
   "execution_count": 26,
   "metadata": {},
   "outputs": [],
   "source": [
    "N = 16\n",
    "df_matrix = [None] * N\n",
    "for i in range(N):\n",
    "    path = \"cleaned/user%i.json\" % i\n",
    "    df_matrix[i] = pd.DataFrame(list(pd.read_json(path).data))"
   ]
  },
  {
   "cell_type": "code",
   "execution_count": 27,
   "metadata": {},
   "outputs": [],
   "source": [
    "ALL_USERS = pd.concat(df_matrix)"
   ]
  },
  {
   "cell_type": "code",
   "execution_count": 28,
   "metadata": {},
   "outputs": [],
   "source": [
    "toronto_users = ALL_USERS[ALL_USERS.user_id.isin(toronto_reviews.user_id)]"
   ]
  },
  {
   "cell_type": "code",
   "execution_count": 29,
   "metadata": {},
   "outputs": [],
   "source": [
    "toronto_users.to_csv('toronto/toronto_users.csv')"
   ]
  },
  {
   "cell_type": "markdown",
   "metadata": {},
   "source": [
    "## Temporal stuff (not used)"
   ]
  },
  {
   "cell_type": "code",
   "execution_count": 18,
   "metadata": {},
   "outputs": [],
   "source": [
    "DF2017 = DF[('2016-31-12' < DF.date) & (DF.date < '2018-01-01')]\n",
    "DF2017.to_csv('cleaned_csv/review_2017.csv')"
   ]
  },
  {
   "cell_type": "code",
   "execution_count": 19,
   "metadata": {},
   "outputs": [
    {
     "data": {
      "text/plain": [
       "1194269"
      ]
     },
     "execution_count": 19,
     "metadata": {},
     "output_type": "execute_result"
    }
   ],
   "source": [
    "len(DF2017)"
   ]
  },
  {
   "cell_type": "code",
   "execution_count": 10,
   "metadata": {},
   "outputs": [],
   "source": [
    "rest = pd.read_csv('cleaned_csv/restaurants.csv')"
   ]
  },
  {
   "cell_type": "code",
   "execution_count": 12,
   "metadata": {},
   "outputs": [],
   "source": [
    "rest_id = set(rest.business_id)"
   ]
  },
  {
   "cell_type": "code",
   "execution_count": 21,
   "metadata": {},
   "outputs": [],
   "source": [
    "rest = pd.read_csv('cleaned_csv/restaurants.csv')"
   ]
  },
  {
   "cell_type": "code",
   "execution_count": 23,
   "metadata": {},
   "outputs": [],
   "source": [
    "rest_ids = list(rest.business_id)"
   ]
  },
  {
   "cell_type": "code",
   "execution_count": 38,
   "metadata": {},
   "outputs": [],
   "source": [
    "rest_reviews = DF[DF.business_id.isin(rest_ids)]"
   ]
  },
  {
   "cell_type": "code",
   "execution_count": 39,
   "metadata": {},
   "outputs": [
    {
     "data": {
      "text/plain": [
       "4018725"
      ]
     },
     "execution_count": 39,
     "metadata": {},
     "output_type": "execute_result"
    }
   ],
   "source": [
    "len(rest_reviews)"
   ]
  },
  {
   "cell_type": "code",
   "execution_count": 46,
   "metadata": {},
   "outputs": [
    {
     "data": {
      "text/html": [
       "<div>\n",
       "<style scoped>\n",
       "    .dataframe tbody tr th:only-of-type {\n",
       "        vertical-align: middle;\n",
       "    }\n",
       "\n",
       "    .dataframe tbody tr th {\n",
       "        vertical-align: top;\n",
       "    }\n",
       "\n",
       "    .dataframe thead th {\n",
       "        text-align: right;\n",
       "    }\n",
       "</style>\n",
       "<table border=\"1\" class=\"dataframe\">\n",
       "  <thead>\n",
       "    <tr style=\"text-align: right;\">\n",
       "      <th></th>\n",
       "      <th>business_id</th>\n",
       "      <th>date</th>\n",
       "      <th>review_id</th>\n",
       "      <th>stars</th>\n",
       "      <th>text</th>\n",
       "      <th>user_id</th>\n",
       "    </tr>\n",
       "  </thead>\n",
       "  <tbody>\n",
       "    <tr>\n",
       "      <th>0</th>\n",
       "      <td>iCQpiavjjPzJ5_3gPD5Ebg</td>\n",
       "      <td>2011-02-25</td>\n",
       "      <td>x7mDIiDB3jEiPGPHOmDzyw</td>\n",
       "      <td>2</td>\n",
       "      <td>The pizza was okay. Not the best I've had. I p...</td>\n",
       "      <td>msQe1u7Z_XuqjGoqhB0J5g</td>\n",
       "    </tr>\n",
       "    <tr>\n",
       "      <th>1</th>\n",
       "      <td>pomGBqfbxcqPv14c3XH-ZQ</td>\n",
       "      <td>2012-11-13</td>\n",
       "      <td>dDl8zu1vWPdKGihJrwQbpw</td>\n",
       "      <td>5</td>\n",
       "      <td>I love this place! My fiance And I go here atl...</td>\n",
       "      <td>msQe1u7Z_XuqjGoqhB0J5g</td>\n",
       "    </tr>\n",
       "    <tr>\n",
       "      <th>2</th>\n",
       "      <td>jtQARsP6P-LbkyjbO1qNGg</td>\n",
       "      <td>2014-10-23</td>\n",
       "      <td>LZp4UX5zK3e-c5ZGSeo3kA</td>\n",
       "      <td>1</td>\n",
       "      <td>Terrible. Dry corn bread. Rib tips were all fa...</td>\n",
       "      <td>msQe1u7Z_XuqjGoqhB0J5g</td>\n",
       "    </tr>\n",
       "    <tr>\n",
       "      <th>3</th>\n",
       "      <td>elqbBhBfElMNSrjFqW3now</td>\n",
       "      <td>2011-02-25</td>\n",
       "      <td>Er4NBWCmCD4nM8_p1GRdow</td>\n",
       "      <td>2</td>\n",
       "      <td>Back in 2005-2007 this place was my FAVORITE t...</td>\n",
       "      <td>msQe1u7Z_XuqjGoqhB0J5g</td>\n",
       "    </tr>\n",
       "    <tr>\n",
       "      <th>4</th>\n",
       "      <td>Ums3gaP2qM3W1XcA5r6SsQ</td>\n",
       "      <td>2014-09-05</td>\n",
       "      <td>jsDu6QEJHbwP2Blom1PLCA</td>\n",
       "      <td>5</td>\n",
       "      <td>Delicious healthy food. The steak is amazing. ...</td>\n",
       "      <td>msQe1u7Z_XuqjGoqhB0J5g</td>\n",
       "    </tr>\n",
       "  </tbody>\n",
       "</table>\n",
       "</div>"
      ],
      "text/plain": [
       "              business_id        date               review_id  stars  \\\n",
       "0  iCQpiavjjPzJ5_3gPD5Ebg  2011-02-25  x7mDIiDB3jEiPGPHOmDzyw      2   \n",
       "1  pomGBqfbxcqPv14c3XH-ZQ  2012-11-13  dDl8zu1vWPdKGihJrwQbpw      5   \n",
       "2  jtQARsP6P-LbkyjbO1qNGg  2014-10-23  LZp4UX5zK3e-c5ZGSeo3kA      1   \n",
       "3  elqbBhBfElMNSrjFqW3now  2011-02-25  Er4NBWCmCD4nM8_p1GRdow      2   \n",
       "4  Ums3gaP2qM3W1XcA5r6SsQ  2014-09-05  jsDu6QEJHbwP2Blom1PLCA      5   \n",
       "\n",
       "                                                text                 user_id  \n",
       "0  The pizza was okay. Not the best I've had. I p...  msQe1u7Z_XuqjGoqhB0J5g  \n",
       "1  I love this place! My fiance And I go here atl...  msQe1u7Z_XuqjGoqhB0J5g  \n",
       "2  Terrible. Dry corn bread. Rib tips were all fa...  msQe1u7Z_XuqjGoqhB0J5g  \n",
       "3  Back in 2005-2007 this place was my FAVORITE t...  msQe1u7Z_XuqjGoqhB0J5g  \n",
       "4  Delicious healthy food. The steak is amazing. ...  msQe1u7Z_XuqjGoqhB0J5g  "
      ]
     },
     "execution_count": 46,
     "metadata": {},
     "output_type": "execute_result"
    }
   ],
   "source": [
    "rest_reviews.head()"
   ]
  },
  {
   "cell_type": "code",
   "execution_count": 43,
   "metadata": {},
   "outputs": [],
   "source": [
    "rest_reviews = rest_reviews.drop(['cool', 'funny', 'useful'], axis=1)"
   ]
  },
  {
   "cell_type": "code",
   "execution_count": 45,
   "metadata": {},
   "outputs": [],
   "source": [
    "rest_reviews.to_csv('cleaned_csv/rest_reviews.csv')"
   ]
  },
  {
   "cell_type": "code",
   "execution_count": 47,
   "metadata": {},
   "outputs": [],
   "source": [
    "rest_reviews_no_text = rest_reviews.drop(['text'], axis=1)"
   ]
  },
  {
   "cell_type": "code",
   "execution_count": 48,
   "metadata": {},
   "outputs": [],
   "source": [
    "rest_reviews_no_text.to_csv('cleaned/rest_reviews_no_test.csv')"
   ]
  },
  {
   "cell_type": "code",
   "execution_count": 51,
   "metadata": {},
   "outputs": [
    {
     "data": {
      "text/plain": [
       "'2004-10-12'"
      ]
     },
     "execution_count": 51,
     "metadata": {},
     "output_type": "execute_result"
    }
   ],
   "source": [
    "rest_reviews_no_text.date.min()"
   ]
  },
  {
   "cell_type": "code",
   "execution_count": 52,
   "metadata": {},
   "outputs": [
    {
     "data": {
      "text/plain": [
       "'2018-07-02'"
      ]
     },
     "execution_count": 52,
     "metadata": {},
     "output_type": "execute_result"
    }
   ],
   "source": [
    "rest_reviews_no_text.date.max()"
   ]
  },
  {
   "cell_type": "code",
   "execution_count": 65,
   "metadata": {},
   "outputs": [],
   "source": [
    "for year in range(2004, 2019):\n",
    "    idx = rest_reviews_no_text.date.str[:4] == str(year)\n",
    "    df_year = rest_reviews_no_text[idx]\n",
    "    df_year.to_csv('csv_by_year/%i.csv' % year)"
   ]
  },
  {
   "cell_type": "code",
   "execution_count": null,
   "metadata": {},
   "outputs": [],
   "source": []
  }
 ],
 "metadata": {
  "kernelspec": {
   "display_name": "Python 3",
   "language": "python",
   "name": "python3"
  },
  "language_info": {
   "codemirror_mode": {
    "name": "ipython",
    "version": 3
   },
   "file_extension": ".py",
   "mimetype": "text/x-python",
   "name": "python",
   "nbconvert_exporter": "python",
   "pygments_lexer": "ipython3",
   "version": "3.7.0"
  }
 },
 "nbformat": 4,
 "nbformat_minor": 2
}
